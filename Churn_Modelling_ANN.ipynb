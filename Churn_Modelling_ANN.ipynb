{
  "nbformat": 4,
  "nbformat_minor": 0,
  "metadata": {
    "colab": {
      "name": "Churn_Modelling_ANN",
      "provenance": [],
      "collapsed_sections": [],
      "authorship_tag": "ABX9TyMusD8R42zIfjJxfEV1m+kg",
      "include_colab_link": true
    },
    "kernelspec": {
      "name": "python3",
      "display_name": "Python 3"
    },
    "accelerator": "GPU"
  },
  "cells": [
    {
      "cell_type": "markdown",
      "metadata": {
        "id": "view-in-github",
        "colab_type": "text"
      },
      "source": [
        "<a href=\"https://colab.research.google.com/github/Tanayshah29/Churn_Modelling/blob/main/Churn_Modelling_ANN.ipynb\" target=\"_parent\"><img src=\"https://colab.research.google.com/assets/colab-badge.svg\" alt=\"Open In Colab\"/></a>"
      ]
    },
    {
      "cell_type": "code",
      "metadata": {
        "id": "LMqMG35Z9URr"
      },
      "source": [
        "#Importing the libraries \n",
        "import numpy as np\n",
        "import pandas as pd\n",
        "import matplotlib.pyplot as plt"
      ],
      "execution_count": 1,
      "outputs": []
    },
    {
      "cell_type": "code",
      "metadata": {
        "id": "jFp7RR4JhlY1",
        "outputId": "d69634c6-4e79-43bc-d01f-1374337216b2",
        "colab": {
          "base_uri": "https://localhost:8080/"
        }
      },
      "source": [
        "#read the dataset from google drive\n",
        "from google.colab import drive\n",
        "drive.mount('/content/drive')\n",
        "data = pd.read_csv('/content/Churn_Modelling.csv')"
      ],
      "execution_count": 2,
      "outputs": [
        {
          "output_type": "stream",
          "text": [
            "Drive already mounted at /content/drive; to attempt to forcibly remount, call drive.mount(\"/content/drive\", force_remount=True).\n"
          ],
          "name": "stdout"
        }
      ]
    },
    {
      "cell_type": "code",
      "metadata": {
        "id": "StlvfnMNiUDc",
        "outputId": "28b27c6f-2471-4587-f3f3-7e6861273bb4",
        "colab": {
          "base_uri": "https://localhost:8080/",
          "height": 204
        }
      },
      "source": [
        "#Display the first 5 rows of the dataset\n",
        "data.head()"
      ],
      "execution_count": 3,
      "outputs": [
        {
          "output_type": "execute_result",
          "data": {
            "text/html": [
              "<div>\n",
              "<style scoped>\n",
              "    .dataframe tbody tr th:only-of-type {\n",
              "        vertical-align: middle;\n",
              "    }\n",
              "\n",
              "    .dataframe tbody tr th {\n",
              "        vertical-align: top;\n",
              "    }\n",
              "\n",
              "    .dataframe thead th {\n",
              "        text-align: right;\n",
              "    }\n",
              "</style>\n",
              "<table border=\"1\" class=\"dataframe\">\n",
              "  <thead>\n",
              "    <tr style=\"text-align: right;\">\n",
              "      <th></th>\n",
              "      <th>RowNumber</th>\n",
              "      <th>CustomerId</th>\n",
              "      <th>Surname</th>\n",
              "      <th>CreditScore</th>\n",
              "      <th>Geography</th>\n",
              "      <th>Gender</th>\n",
              "      <th>Age</th>\n",
              "      <th>Tenure</th>\n",
              "      <th>Balance</th>\n",
              "      <th>NumOfProducts</th>\n",
              "      <th>HasCrCard</th>\n",
              "      <th>IsActiveMember</th>\n",
              "      <th>EstimatedSalary</th>\n",
              "      <th>Exited</th>\n",
              "    </tr>\n",
              "  </thead>\n",
              "  <tbody>\n",
              "    <tr>\n",
              "      <th>0</th>\n",
              "      <td>1</td>\n",
              "      <td>15634602</td>\n",
              "      <td>Hargrave</td>\n",
              "      <td>619</td>\n",
              "      <td>France</td>\n",
              "      <td>Female</td>\n",
              "      <td>42</td>\n",
              "      <td>2</td>\n",
              "      <td>0.00</td>\n",
              "      <td>1</td>\n",
              "      <td>1</td>\n",
              "      <td>1</td>\n",
              "      <td>101348.88</td>\n",
              "      <td>1</td>\n",
              "    </tr>\n",
              "    <tr>\n",
              "      <th>1</th>\n",
              "      <td>2</td>\n",
              "      <td>15647311</td>\n",
              "      <td>Hill</td>\n",
              "      <td>608</td>\n",
              "      <td>Spain</td>\n",
              "      <td>Female</td>\n",
              "      <td>41</td>\n",
              "      <td>1</td>\n",
              "      <td>83807.86</td>\n",
              "      <td>1</td>\n",
              "      <td>0</td>\n",
              "      <td>1</td>\n",
              "      <td>112542.58</td>\n",
              "      <td>0</td>\n",
              "    </tr>\n",
              "    <tr>\n",
              "      <th>2</th>\n",
              "      <td>3</td>\n",
              "      <td>15619304</td>\n",
              "      <td>Onio</td>\n",
              "      <td>502</td>\n",
              "      <td>France</td>\n",
              "      <td>Female</td>\n",
              "      <td>42</td>\n",
              "      <td>8</td>\n",
              "      <td>159660.80</td>\n",
              "      <td>3</td>\n",
              "      <td>1</td>\n",
              "      <td>0</td>\n",
              "      <td>113931.57</td>\n",
              "      <td>1</td>\n",
              "    </tr>\n",
              "    <tr>\n",
              "      <th>3</th>\n",
              "      <td>4</td>\n",
              "      <td>15701354</td>\n",
              "      <td>Boni</td>\n",
              "      <td>699</td>\n",
              "      <td>France</td>\n",
              "      <td>Female</td>\n",
              "      <td>39</td>\n",
              "      <td>1</td>\n",
              "      <td>0.00</td>\n",
              "      <td>2</td>\n",
              "      <td>0</td>\n",
              "      <td>0</td>\n",
              "      <td>93826.63</td>\n",
              "      <td>0</td>\n",
              "    </tr>\n",
              "    <tr>\n",
              "      <th>4</th>\n",
              "      <td>5</td>\n",
              "      <td>15737888</td>\n",
              "      <td>Mitchell</td>\n",
              "      <td>850</td>\n",
              "      <td>Spain</td>\n",
              "      <td>Female</td>\n",
              "      <td>43</td>\n",
              "      <td>2</td>\n",
              "      <td>125510.82</td>\n",
              "      <td>1</td>\n",
              "      <td>1</td>\n",
              "      <td>1</td>\n",
              "      <td>79084.10</td>\n",
              "      <td>0</td>\n",
              "    </tr>\n",
              "  </tbody>\n",
              "</table>\n",
              "</div>"
            ],
            "text/plain": [
              "   RowNumber  CustomerId   Surname  ...  IsActiveMember EstimatedSalary Exited\n",
              "0          1    15634602  Hargrave  ...               1       101348.88      1\n",
              "1          2    15647311      Hill  ...               1       112542.58      0\n",
              "2          3    15619304      Onio  ...               0       113931.57      1\n",
              "3          4    15701354      Boni  ...               0        93826.63      0\n",
              "4          5    15737888  Mitchell  ...               1        79084.10      0\n",
              "\n",
              "[5 rows x 14 columns]"
            ]
          },
          "metadata": {
            "tags": []
          },
          "execution_count": 3
        }
      ]
    },
    {
      "cell_type": "markdown",
      "metadata": {
        "id": "tKdbtwOpjvH5"
      },
      "source": [
        "So, Our aim is to predict or classify whether the customer will be exciting in the future or not (0 or 1). So, that the bank can give them some benefits prior to them taking the decision of exiting from the bank"
      ]
    },
    {
      "cell_type": "code",
      "metadata": {
        "id": "50WU9iczigPs"
      },
      "source": [
        "# Clearly it can be seen that first 3 columns makes no sense in classification so just removing the 3 columns from the independent features list\n",
        "X = data.iloc[:, 3:13]\n",
        "y = data.iloc[:, 13]"
      ],
      "execution_count": 4,
      "outputs": []
    },
    {
      "cell_type": "code",
      "metadata": {
        "id": "iZTSdU4ujGm9",
        "outputId": "226a3a9c-a24f-45ac-fa65-62c4f5191ff7",
        "colab": {
          "base_uri": "https://localhost:8080/",
          "height": 204
        }
      },
      "source": [
        "X.head()"
      ],
      "execution_count": 5,
      "outputs": [
        {
          "output_type": "execute_result",
          "data": {
            "text/html": [
              "<div>\n",
              "<style scoped>\n",
              "    .dataframe tbody tr th:only-of-type {\n",
              "        vertical-align: middle;\n",
              "    }\n",
              "\n",
              "    .dataframe tbody tr th {\n",
              "        vertical-align: top;\n",
              "    }\n",
              "\n",
              "    .dataframe thead th {\n",
              "        text-align: right;\n",
              "    }\n",
              "</style>\n",
              "<table border=\"1\" class=\"dataframe\">\n",
              "  <thead>\n",
              "    <tr style=\"text-align: right;\">\n",
              "      <th></th>\n",
              "      <th>CreditScore</th>\n",
              "      <th>Geography</th>\n",
              "      <th>Gender</th>\n",
              "      <th>Age</th>\n",
              "      <th>Tenure</th>\n",
              "      <th>Balance</th>\n",
              "      <th>NumOfProducts</th>\n",
              "      <th>HasCrCard</th>\n",
              "      <th>IsActiveMember</th>\n",
              "      <th>EstimatedSalary</th>\n",
              "    </tr>\n",
              "  </thead>\n",
              "  <tbody>\n",
              "    <tr>\n",
              "      <th>0</th>\n",
              "      <td>619</td>\n",
              "      <td>France</td>\n",
              "      <td>Female</td>\n",
              "      <td>42</td>\n",
              "      <td>2</td>\n",
              "      <td>0.00</td>\n",
              "      <td>1</td>\n",
              "      <td>1</td>\n",
              "      <td>1</td>\n",
              "      <td>101348.88</td>\n",
              "    </tr>\n",
              "    <tr>\n",
              "      <th>1</th>\n",
              "      <td>608</td>\n",
              "      <td>Spain</td>\n",
              "      <td>Female</td>\n",
              "      <td>41</td>\n",
              "      <td>1</td>\n",
              "      <td>83807.86</td>\n",
              "      <td>1</td>\n",
              "      <td>0</td>\n",
              "      <td>1</td>\n",
              "      <td>112542.58</td>\n",
              "    </tr>\n",
              "    <tr>\n",
              "      <th>2</th>\n",
              "      <td>502</td>\n",
              "      <td>France</td>\n",
              "      <td>Female</td>\n",
              "      <td>42</td>\n",
              "      <td>8</td>\n",
              "      <td>159660.80</td>\n",
              "      <td>3</td>\n",
              "      <td>1</td>\n",
              "      <td>0</td>\n",
              "      <td>113931.57</td>\n",
              "    </tr>\n",
              "    <tr>\n",
              "      <th>3</th>\n",
              "      <td>699</td>\n",
              "      <td>France</td>\n",
              "      <td>Female</td>\n",
              "      <td>39</td>\n",
              "      <td>1</td>\n",
              "      <td>0.00</td>\n",
              "      <td>2</td>\n",
              "      <td>0</td>\n",
              "      <td>0</td>\n",
              "      <td>93826.63</td>\n",
              "    </tr>\n",
              "    <tr>\n",
              "      <th>4</th>\n",
              "      <td>850</td>\n",
              "      <td>Spain</td>\n",
              "      <td>Female</td>\n",
              "      <td>43</td>\n",
              "      <td>2</td>\n",
              "      <td>125510.82</td>\n",
              "      <td>1</td>\n",
              "      <td>1</td>\n",
              "      <td>1</td>\n",
              "      <td>79084.10</td>\n",
              "    </tr>\n",
              "  </tbody>\n",
              "</table>\n",
              "</div>"
            ],
            "text/plain": [
              "   CreditScore Geography  Gender  ...  HasCrCard  IsActiveMember  EstimatedSalary\n",
              "0          619    France  Female  ...          1               1        101348.88\n",
              "1          608     Spain  Female  ...          0               1        112542.58\n",
              "2          502    France  Female  ...          1               0        113931.57\n",
              "3          699    France  Female  ...          0               0         93826.63\n",
              "4          850     Spain  Female  ...          1               1         79084.10\n",
              "\n",
              "[5 rows x 10 columns]"
            ]
          },
          "metadata": {
            "tags": []
          },
          "execution_count": 5
        }
      ]
    },
    {
      "cell_type": "code",
      "metadata": {
        "id": "KKvHjmCijjF8",
        "outputId": "dd509614-b270-4e55-de91-5f13750f8ac2",
        "colab": {
          "base_uri": "https://localhost:8080/"
        }
      },
      "source": [
        "y.head()"
      ],
      "execution_count": 6,
      "outputs": [
        {
          "output_type": "execute_result",
          "data": {
            "text/plain": [
              "0    1\n",
              "1    0\n",
              "2    1\n",
              "3    0\n",
              "4    0\n",
              "Name: Exited, dtype: int64"
            ]
          },
          "metadata": {
            "tags": []
          },
          "execution_count": 6
        }
      ]
    },
    {
      "cell_type": "code",
      "metadata": {
        "id": "Q0OpbMwLjkNO"
      },
      "source": [
        "#Since we can see the 2 columns Geography and Gender as categorical we can make them dummie features.\n",
        "geography = pd.get_dummies(X['Geography'], drop_first= True)\n",
        "gender = pd.get_dummies(X['Gender'], drop_first= True)"
      ],
      "execution_count": 7,
      "outputs": []
    },
    {
      "cell_type": "code",
      "metadata": {
        "id": "1AysXkJrkygH"
      },
      "source": [
        "#Then Concatenate the dummie columns with our X- independent features\n",
        "X =pd.concat([X,geography,gender], axis=1)"
      ],
      "execution_count": 8,
      "outputs": []
    },
    {
      "cell_type": "code",
      "metadata": {
        "id": "cf4iFQ9VlFC9",
        "outputId": "80591b56-ff11-4abe-c2e7-c1742912a2e1",
        "colab": {
          "base_uri": "https://localhost:8080/",
          "height": 204
        }
      },
      "source": [
        "X.head()"
      ],
      "execution_count": 9,
      "outputs": [
        {
          "output_type": "execute_result",
          "data": {
            "text/html": [
              "<div>\n",
              "<style scoped>\n",
              "    .dataframe tbody tr th:only-of-type {\n",
              "        vertical-align: middle;\n",
              "    }\n",
              "\n",
              "    .dataframe tbody tr th {\n",
              "        vertical-align: top;\n",
              "    }\n",
              "\n",
              "    .dataframe thead th {\n",
              "        text-align: right;\n",
              "    }\n",
              "</style>\n",
              "<table border=\"1\" class=\"dataframe\">\n",
              "  <thead>\n",
              "    <tr style=\"text-align: right;\">\n",
              "      <th></th>\n",
              "      <th>CreditScore</th>\n",
              "      <th>Geography</th>\n",
              "      <th>Gender</th>\n",
              "      <th>Age</th>\n",
              "      <th>Tenure</th>\n",
              "      <th>Balance</th>\n",
              "      <th>NumOfProducts</th>\n",
              "      <th>HasCrCard</th>\n",
              "      <th>IsActiveMember</th>\n",
              "      <th>EstimatedSalary</th>\n",
              "      <th>Germany</th>\n",
              "      <th>Spain</th>\n",
              "      <th>Male</th>\n",
              "    </tr>\n",
              "  </thead>\n",
              "  <tbody>\n",
              "    <tr>\n",
              "      <th>0</th>\n",
              "      <td>619</td>\n",
              "      <td>France</td>\n",
              "      <td>Female</td>\n",
              "      <td>42</td>\n",
              "      <td>2</td>\n",
              "      <td>0.00</td>\n",
              "      <td>1</td>\n",
              "      <td>1</td>\n",
              "      <td>1</td>\n",
              "      <td>101348.88</td>\n",
              "      <td>0</td>\n",
              "      <td>0</td>\n",
              "      <td>0</td>\n",
              "    </tr>\n",
              "    <tr>\n",
              "      <th>1</th>\n",
              "      <td>608</td>\n",
              "      <td>Spain</td>\n",
              "      <td>Female</td>\n",
              "      <td>41</td>\n",
              "      <td>1</td>\n",
              "      <td>83807.86</td>\n",
              "      <td>1</td>\n",
              "      <td>0</td>\n",
              "      <td>1</td>\n",
              "      <td>112542.58</td>\n",
              "      <td>0</td>\n",
              "      <td>1</td>\n",
              "      <td>0</td>\n",
              "    </tr>\n",
              "    <tr>\n",
              "      <th>2</th>\n",
              "      <td>502</td>\n",
              "      <td>France</td>\n",
              "      <td>Female</td>\n",
              "      <td>42</td>\n",
              "      <td>8</td>\n",
              "      <td>159660.80</td>\n",
              "      <td>3</td>\n",
              "      <td>1</td>\n",
              "      <td>0</td>\n",
              "      <td>113931.57</td>\n",
              "      <td>0</td>\n",
              "      <td>0</td>\n",
              "      <td>0</td>\n",
              "    </tr>\n",
              "    <tr>\n",
              "      <th>3</th>\n",
              "      <td>699</td>\n",
              "      <td>France</td>\n",
              "      <td>Female</td>\n",
              "      <td>39</td>\n",
              "      <td>1</td>\n",
              "      <td>0.00</td>\n",
              "      <td>2</td>\n",
              "      <td>0</td>\n",
              "      <td>0</td>\n",
              "      <td>93826.63</td>\n",
              "      <td>0</td>\n",
              "      <td>0</td>\n",
              "      <td>0</td>\n",
              "    </tr>\n",
              "    <tr>\n",
              "      <th>4</th>\n",
              "      <td>850</td>\n",
              "      <td>Spain</td>\n",
              "      <td>Female</td>\n",
              "      <td>43</td>\n",
              "      <td>2</td>\n",
              "      <td>125510.82</td>\n",
              "      <td>1</td>\n",
              "      <td>1</td>\n",
              "      <td>1</td>\n",
              "      <td>79084.10</td>\n",
              "      <td>0</td>\n",
              "      <td>1</td>\n",
              "      <td>0</td>\n",
              "    </tr>\n",
              "  </tbody>\n",
              "</table>\n",
              "</div>"
            ],
            "text/plain": [
              "   CreditScore Geography  Gender  Age  ...  EstimatedSalary  Germany  Spain  Male\n",
              "0          619    France  Female   42  ...        101348.88        0      0     0\n",
              "1          608     Spain  Female   41  ...        112542.58        0      1     0\n",
              "2          502    France  Female   42  ...        113931.57        0      0     0\n",
              "3          699    France  Female   39  ...         93826.63        0      0     0\n",
              "4          850     Spain  Female   43  ...         79084.10        0      1     0\n",
              "\n",
              "[5 rows x 13 columns]"
            ]
          },
          "metadata": {
            "tags": []
          },
          "execution_count": 9
        }
      ]
    },
    {
      "cell_type": "code",
      "metadata": {
        "id": "yo7agPIYlGbn"
      },
      "source": [
        "#Now lets drop the Geography and Gender columns it's of no use.\n",
        "X = X.drop(columns=['Geography', 'Gender'], axis=1)"
      ],
      "execution_count": 10,
      "outputs": []
    },
    {
      "cell_type": "code",
      "metadata": {
        "id": "lDLPsm6MmL1m",
        "outputId": "f851e550-4959-46d6-9e09-490f257b3091",
        "colab": {
          "base_uri": "https://localhost:8080/",
          "height": 204
        }
      },
      "source": [
        "X.head()"
      ],
      "execution_count": 11,
      "outputs": [
        {
          "output_type": "execute_result",
          "data": {
            "text/html": [
              "<div>\n",
              "<style scoped>\n",
              "    .dataframe tbody tr th:only-of-type {\n",
              "        vertical-align: middle;\n",
              "    }\n",
              "\n",
              "    .dataframe tbody tr th {\n",
              "        vertical-align: top;\n",
              "    }\n",
              "\n",
              "    .dataframe thead th {\n",
              "        text-align: right;\n",
              "    }\n",
              "</style>\n",
              "<table border=\"1\" class=\"dataframe\">\n",
              "  <thead>\n",
              "    <tr style=\"text-align: right;\">\n",
              "      <th></th>\n",
              "      <th>CreditScore</th>\n",
              "      <th>Age</th>\n",
              "      <th>Tenure</th>\n",
              "      <th>Balance</th>\n",
              "      <th>NumOfProducts</th>\n",
              "      <th>HasCrCard</th>\n",
              "      <th>IsActiveMember</th>\n",
              "      <th>EstimatedSalary</th>\n",
              "      <th>Germany</th>\n",
              "      <th>Spain</th>\n",
              "      <th>Male</th>\n",
              "    </tr>\n",
              "  </thead>\n",
              "  <tbody>\n",
              "    <tr>\n",
              "      <th>0</th>\n",
              "      <td>619</td>\n",
              "      <td>42</td>\n",
              "      <td>2</td>\n",
              "      <td>0.00</td>\n",
              "      <td>1</td>\n",
              "      <td>1</td>\n",
              "      <td>1</td>\n",
              "      <td>101348.88</td>\n",
              "      <td>0</td>\n",
              "      <td>0</td>\n",
              "      <td>0</td>\n",
              "    </tr>\n",
              "    <tr>\n",
              "      <th>1</th>\n",
              "      <td>608</td>\n",
              "      <td>41</td>\n",
              "      <td>1</td>\n",
              "      <td>83807.86</td>\n",
              "      <td>1</td>\n",
              "      <td>0</td>\n",
              "      <td>1</td>\n",
              "      <td>112542.58</td>\n",
              "      <td>0</td>\n",
              "      <td>1</td>\n",
              "      <td>0</td>\n",
              "    </tr>\n",
              "    <tr>\n",
              "      <th>2</th>\n",
              "      <td>502</td>\n",
              "      <td>42</td>\n",
              "      <td>8</td>\n",
              "      <td>159660.80</td>\n",
              "      <td>3</td>\n",
              "      <td>1</td>\n",
              "      <td>0</td>\n",
              "      <td>113931.57</td>\n",
              "      <td>0</td>\n",
              "      <td>0</td>\n",
              "      <td>0</td>\n",
              "    </tr>\n",
              "    <tr>\n",
              "      <th>3</th>\n",
              "      <td>699</td>\n",
              "      <td>39</td>\n",
              "      <td>1</td>\n",
              "      <td>0.00</td>\n",
              "      <td>2</td>\n",
              "      <td>0</td>\n",
              "      <td>0</td>\n",
              "      <td>93826.63</td>\n",
              "      <td>0</td>\n",
              "      <td>0</td>\n",
              "      <td>0</td>\n",
              "    </tr>\n",
              "    <tr>\n",
              "      <th>4</th>\n",
              "      <td>850</td>\n",
              "      <td>43</td>\n",
              "      <td>2</td>\n",
              "      <td>125510.82</td>\n",
              "      <td>1</td>\n",
              "      <td>1</td>\n",
              "      <td>1</td>\n",
              "      <td>79084.10</td>\n",
              "      <td>0</td>\n",
              "      <td>1</td>\n",
              "      <td>0</td>\n",
              "    </tr>\n",
              "  </tbody>\n",
              "</table>\n",
              "</div>"
            ],
            "text/plain": [
              "   CreditScore  Age  Tenure    Balance  ...  EstimatedSalary  Germany  Spain  Male\n",
              "0          619   42       2       0.00  ...        101348.88        0      0     0\n",
              "1          608   41       1   83807.86  ...        112542.58        0      1     0\n",
              "2          502   42       8  159660.80  ...        113931.57        0      0     0\n",
              "3          699   39       1       0.00  ...         93826.63        0      0     0\n",
              "4          850   43       2  125510.82  ...         79084.10        0      1     0\n",
              "\n",
              "[5 rows x 11 columns]"
            ]
          },
          "metadata": {
            "tags": []
          },
          "execution_count": 11
        }
      ]
    },
    {
      "cell_type": "code",
      "metadata": {
        "id": "5ofPMfVjmNdI"
      },
      "source": [
        "#Splitting the datset into test and train split\n",
        "from sklearn.model_selection import train_test_split\n",
        "X_train, X_test, y_train, y_test = train_test_split(X,y, test_size=0.2, random_state=0)"
      ],
      "execution_count": 12,
      "outputs": []
    },
    {
      "cell_type": "code",
      "metadata": {
        "id": "Li1sEwLwmzWP",
        "outputId": "6d78bf81-5ddc-443b-d39b-35ea16832f11",
        "colab": {
          "base_uri": "https://localhost:8080/"
        }
      },
      "source": [
        "X_train.shape"
      ],
      "execution_count": 13,
      "outputs": [
        {
          "output_type": "execute_result",
          "data": {
            "text/plain": [
              "(8000, 11)"
            ]
          },
          "metadata": {
            "tags": []
          },
          "execution_count": 13
        }
      ]
    },
    {
      "cell_type": "code",
      "metadata": {
        "id": "gmZBgQKpm4sN",
        "outputId": "b181ed5d-fcce-4cbb-ae2a-e8a001264ef5",
        "colab": {
          "base_uri": "https://localhost:8080/"
        }
      },
      "source": [
        "X_test.shape"
      ],
      "execution_count": 14,
      "outputs": [
        {
          "output_type": "execute_result",
          "data": {
            "text/plain": [
              "(2000, 11)"
            ]
          },
          "metadata": {
            "tags": []
          },
          "execution_count": 14
        }
      ]
    },
    {
      "cell_type": "code",
      "metadata": {
        "id": "7-j4y-SPm8NB",
        "outputId": "3abff6b1-0d12-45cb-8151-7f735b91f0ea",
        "colab": {
          "base_uri": "https://localhost:8080/"
        }
      },
      "source": [
        "y_train.shape"
      ],
      "execution_count": 15,
      "outputs": [
        {
          "output_type": "execute_result",
          "data": {
            "text/plain": [
              "(8000,)"
            ]
          },
          "metadata": {
            "tags": []
          },
          "execution_count": 15
        }
      ]
    },
    {
      "cell_type": "code",
      "metadata": {
        "id": "TbeFFgNQm_ja",
        "outputId": "6414b8c3-ac70-4b71-f39d-16e141131a03",
        "colab": {
          "base_uri": "https://localhost:8080/"
        }
      },
      "source": [
        "y_test.shape"
      ],
      "execution_count": 16,
      "outputs": [
        {
          "output_type": "execute_result",
          "data": {
            "text/plain": [
              "(2000,)"
            ]
          },
          "metadata": {
            "tags": []
          },
          "execution_count": 16
        }
      ]
    },
    {
      "cell_type": "code",
      "metadata": {
        "id": "twJOmPlpnETL"
      },
      "source": [
        "#Feature Scaling\n",
        "from sklearn.preprocessing import StandardScaler\n",
        "sc = StandardScaler()\n",
        "X_train = sc.fit_transform(X_train)\n",
        "X_test = sc.transform(X_test)"
      ],
      "execution_count": 17,
      "outputs": []
    },
    {
      "cell_type": "code",
      "metadata": {
        "id": "WBVmrrSwnaob"
      },
      "source": [
        "# Now it's time to make our ANN and so these are the required libraries\n",
        "import keras\n",
        "from keras.models import Sequential\n",
        "from keras.layers import Dense\n",
        "from keras.layers import LeakyReLU, ELU, PReLU\n",
        "from keras.layers import Dropout"
      ],
      "execution_count": 18,
      "outputs": []
    },
    {
      "cell_type": "markdown",
      "metadata": {
        "id": "f82Y2ImLoscv"
      },
      "source": [
        "So, After initializing the Sequential(), it will have my empty neural network with no neurons"
      ]
    },
    {
      "cell_type": "code",
      "metadata": {
        "id": "Juq-mRrloiek"
      },
      "source": [
        "#Initializing the ANN\n",
        "classifier =  Sequential()"
      ],
      "execution_count": 19,
      "outputs": []
    },
    {
      "cell_type": "code",
      "metadata": {
        "id": "w4P9dNazop7A"
      },
      "source": [
        "#Adding the input layer and the first hidden layer\n",
        "classifier.add(Dense(units= 6, kernel_initializer='he_uniform', activation='relu', input_dim = 11))"
      ],
      "execution_count": 21,
      "outputs": []
    },
    {
      "cell_type": "code",
      "metadata": {
        "id": "r373xy8wpdi5"
      },
      "source": [
        "#Adding the second hidden layer\n",
        "classifier.add(Dense(units= 6, kernel_initializer='he_uniform', activation='relu')) "
      ],
      "execution_count": 22,
      "outputs": []
    },
    {
      "cell_type": "code",
      "metadata": {
        "id": "zdjWMw4Lp0l8"
      },
      "source": [
        "#Adding the output layer\n",
        "classifier.add(Dense( units= 1, kernel_initializer='glorot_uniform', activation='sigmoid')) "
      ],
      "execution_count": 23,
      "outputs": []
    },
    {
      "cell_type": "code",
      "metadata": {
        "id": "25fktOGSqHcs",
        "outputId": "220138fd-b0b7-45ef-a76e-62c31de801f7",
        "colab": {
          "base_uri": "https://localhost:8080/"
        }
      },
      "source": [
        "#Now let's see the summary of the neural network so far\n",
        "classifier.summary()"
      ],
      "execution_count": 24,
      "outputs": [
        {
          "output_type": "stream",
          "text": [
            "Model: \"sequential\"\n",
            "_________________________________________________________________\n",
            "Layer (type)                 Output Shape              Param #   \n",
            "=================================================================\n",
            "dense (Dense)                (None, 6)                 72        \n",
            "_________________________________________________________________\n",
            "dense_1 (Dense)              (None, 6)                 42        \n",
            "_________________________________________________________________\n",
            "dense_2 (Dense)              (None, 1)                 7         \n",
            "=================================================================\n",
            "Total params: 121\n",
            "Trainable params: 121\n",
            "Non-trainable params: 0\n",
            "_________________________________________________________________\n"
          ],
          "name": "stdout"
        }
      ]
    },
    {
      "cell_type": "code",
      "metadata": {
        "id": "Xk3sKsfoqTNl"
      },
      "source": [
        "#Compiling the ANN\n",
        "classifier.compile(optimizer='adam', loss='binary_crossentropy', metrics=['accuracy'])"
      ],
      "execution_count": 26,
      "outputs": []
    },
    {
      "cell_type": "code",
      "metadata": {
        "id": "ZbUZ9N0jqkfw",
        "outputId": "8b1e280b-b3c4-47be-9a1d-bc86b6659118",
        "colab": {
          "base_uri": "https://localhost:8080/"
        }
      },
      "source": [
        "#Fitting the ann to the training set\n",
        "model_history = classifier.fit(X_train, y_train, validation_split=0.33, batch_size=10, epochs=100)"
      ],
      "execution_count": 29,
      "outputs": [
        {
          "output_type": "stream",
          "text": [
            "Epoch 1/100\n",
            "536/536 [==============================] - 2s 3ms/step - loss: 0.6305 - accuracy: 0.7962 - val_loss: 0.5348 - val_accuracy: 0.7955\n",
            "Epoch 2/100\n",
            "536/536 [==============================] - 2s 3ms/step - loss: 0.5010 - accuracy: 0.7962 - val_loss: 0.4869 - val_accuracy: 0.7955\n",
            "Epoch 3/100\n",
            "536/536 [==============================] - 2s 3ms/step - loss: 0.4656 - accuracy: 0.7962 - val_loss: 0.4624 - val_accuracy: 0.7955\n",
            "Epoch 4/100\n",
            "536/536 [==============================] - 2s 3ms/step - loss: 0.4470 - accuracy: 0.7962 - val_loss: 0.4491 - val_accuracy: 0.7955\n",
            "Epoch 5/100\n",
            "536/536 [==============================] - 2s 3ms/step - loss: 0.4375 - accuracy: 0.7962 - val_loss: 0.4428 - val_accuracy: 0.7955\n",
            "Epoch 6/100\n",
            "536/536 [==============================] - 2s 3ms/step - loss: 0.4329 - accuracy: 0.7960 - val_loss: 0.4388 - val_accuracy: 0.7989\n",
            "Epoch 7/100\n",
            "536/536 [==============================] - 2s 3ms/step - loss: 0.4296 - accuracy: 0.8076 - val_loss: 0.4358 - val_accuracy: 0.8073\n",
            "Epoch 8/100\n",
            "536/536 [==============================] - 2s 3ms/step - loss: 0.4275 - accuracy: 0.8138 - val_loss: 0.4344 - val_accuracy: 0.8095\n",
            "Epoch 9/100\n",
            "536/536 [==============================] - 2s 3ms/step - loss: 0.4256 - accuracy: 0.8169 - val_loss: 0.4325 - val_accuracy: 0.8126\n",
            "Epoch 10/100\n",
            "536/536 [==============================] - 2s 3ms/step - loss: 0.4239 - accuracy: 0.8214 - val_loss: 0.4309 - val_accuracy: 0.8148\n",
            "Epoch 11/100\n",
            "536/536 [==============================] - 2s 3ms/step - loss: 0.4216 - accuracy: 0.8209 - val_loss: 0.4303 - val_accuracy: 0.8152\n",
            "Epoch 12/100\n",
            "536/536 [==============================] - 2s 3ms/step - loss: 0.4201 - accuracy: 0.8259 - val_loss: 0.4281 - val_accuracy: 0.8164\n",
            "Epoch 13/100\n",
            "536/536 [==============================] - 2s 3ms/step - loss: 0.4181 - accuracy: 0.8259 - val_loss: 0.4270 - val_accuracy: 0.8186\n",
            "Epoch 14/100\n",
            "536/536 [==============================] - 2s 3ms/step - loss: 0.4164 - accuracy: 0.8285 - val_loss: 0.4258 - val_accuracy: 0.8205\n",
            "Epoch 15/100\n",
            "536/536 [==============================] - 2s 3ms/step - loss: 0.4151 - accuracy: 0.8280 - val_loss: 0.4250 - val_accuracy: 0.8201\n",
            "Epoch 16/100\n",
            "536/536 [==============================] - 2s 3ms/step - loss: 0.4139 - accuracy: 0.8287 - val_loss: 0.4236 - val_accuracy: 0.8194\n",
            "Epoch 17/100\n",
            "536/536 [==============================] - 2s 3ms/step - loss: 0.4123 - accuracy: 0.8315 - val_loss: 0.4221 - val_accuracy: 0.8194\n",
            "Epoch 18/100\n",
            "536/536 [==============================] - 2s 3ms/step - loss: 0.4115 - accuracy: 0.8328 - val_loss: 0.4214 - val_accuracy: 0.8209\n",
            "Epoch 19/100\n",
            "536/536 [==============================] - 2s 3ms/step - loss: 0.4103 - accuracy: 0.8332 - val_loss: 0.4204 - val_accuracy: 0.8194\n",
            "Epoch 20/100\n",
            "536/536 [==============================] - 2s 3ms/step - loss: 0.4094 - accuracy: 0.8321 - val_loss: 0.4194 - val_accuracy: 0.8198\n",
            "Epoch 21/100\n",
            "536/536 [==============================] - 2s 3ms/step - loss: 0.4088 - accuracy: 0.8337 - val_loss: 0.4191 - val_accuracy: 0.8194\n",
            "Epoch 22/100\n",
            "536/536 [==============================] - 2s 3ms/step - loss: 0.4078 - accuracy: 0.8336 - val_loss: 0.4189 - val_accuracy: 0.8205\n",
            "Epoch 23/100\n",
            "536/536 [==============================] - 2s 3ms/step - loss: 0.4073 - accuracy: 0.8336 - val_loss: 0.4175 - val_accuracy: 0.8209\n",
            "Epoch 24/100\n",
            "536/536 [==============================] - 2s 3ms/step - loss: 0.4066 - accuracy: 0.8352 - val_loss: 0.4177 - val_accuracy: 0.8228\n",
            "Epoch 25/100\n",
            "536/536 [==============================] - 2s 4ms/step - loss: 0.4061 - accuracy: 0.8345 - val_loss: 0.4167 - val_accuracy: 0.8228\n",
            "Epoch 26/100\n",
            "536/536 [==============================] - 2s 3ms/step - loss: 0.4058 - accuracy: 0.8347 - val_loss: 0.4163 - val_accuracy: 0.8232\n",
            "Epoch 27/100\n",
            "536/536 [==============================] - 2s 3ms/step - loss: 0.4053 - accuracy: 0.8358 - val_loss: 0.4153 - val_accuracy: 0.8228\n",
            "Epoch 28/100\n",
            "536/536 [==============================] - 2s 3ms/step - loss: 0.4046 - accuracy: 0.8356 - val_loss: 0.4153 - val_accuracy: 0.8232\n",
            "Epoch 29/100\n",
            "536/536 [==============================] - 2s 3ms/step - loss: 0.4036 - accuracy: 0.8334 - val_loss: 0.4140 - val_accuracy: 0.8236\n",
            "Epoch 30/100\n",
            "536/536 [==============================] - 2s 3ms/step - loss: 0.4042 - accuracy: 0.8360 - val_loss: 0.4141 - val_accuracy: 0.8232\n",
            "Epoch 31/100\n",
            "536/536 [==============================] - 2s 3ms/step - loss: 0.4038 - accuracy: 0.8360 - val_loss: 0.4137 - val_accuracy: 0.8251\n",
            "Epoch 32/100\n",
            "536/536 [==============================] - 2s 3ms/step - loss: 0.4033 - accuracy: 0.8362 - val_loss: 0.4142 - val_accuracy: 0.8217\n",
            "Epoch 33/100\n",
            "536/536 [==============================] - 2s 3ms/step - loss: 0.4030 - accuracy: 0.8349 - val_loss: 0.4136 - val_accuracy: 0.8243\n",
            "Epoch 34/100\n",
            "536/536 [==============================] - 2s 3ms/step - loss: 0.4028 - accuracy: 0.8356 - val_loss: 0.4128 - val_accuracy: 0.8247\n",
            "Epoch 35/100\n",
            "536/536 [==============================] - 2s 3ms/step - loss: 0.4027 - accuracy: 0.8356 - val_loss: 0.4119 - val_accuracy: 0.8273\n",
            "Epoch 36/100\n",
            "536/536 [==============================] - 2s 3ms/step - loss: 0.4020 - accuracy: 0.8367 - val_loss: 0.4140 - val_accuracy: 0.8258\n",
            "Epoch 37/100\n",
            "536/536 [==============================] - 2s 3ms/step - loss: 0.4020 - accuracy: 0.8352 - val_loss: 0.4119 - val_accuracy: 0.8277\n",
            "Epoch 38/100\n",
            "536/536 [==============================] - 2s 3ms/step - loss: 0.4017 - accuracy: 0.8354 - val_loss: 0.4120 - val_accuracy: 0.8243\n",
            "Epoch 39/100\n",
            "536/536 [==============================] - 2s 3ms/step - loss: 0.4012 - accuracy: 0.8362 - val_loss: 0.4112 - val_accuracy: 0.8247\n",
            "Epoch 40/100\n",
            "536/536 [==============================] - 2s 3ms/step - loss: 0.4015 - accuracy: 0.8358 - val_loss: 0.4109 - val_accuracy: 0.8262\n",
            "Epoch 41/100\n",
            "536/536 [==============================] - 2s 3ms/step - loss: 0.4008 - accuracy: 0.8358 - val_loss: 0.4107 - val_accuracy: 0.8247\n",
            "Epoch 42/100\n",
            "536/536 [==============================] - 2s 3ms/step - loss: 0.4009 - accuracy: 0.8356 - val_loss: 0.4105 - val_accuracy: 0.8254\n",
            "Epoch 43/100\n",
            "536/536 [==============================] - 2s 3ms/step - loss: 0.4009 - accuracy: 0.8364 - val_loss: 0.4103 - val_accuracy: 0.8262\n",
            "Epoch 44/100\n",
            "536/536 [==============================] - 2s 3ms/step - loss: 0.4005 - accuracy: 0.8364 - val_loss: 0.4100 - val_accuracy: 0.8266\n",
            "Epoch 45/100\n",
            "536/536 [==============================] - 2s 3ms/step - loss: 0.4003 - accuracy: 0.8367 - val_loss: 0.4103 - val_accuracy: 0.8247\n",
            "Epoch 46/100\n",
            "536/536 [==============================] - 2s 3ms/step - loss: 0.3999 - accuracy: 0.8356 - val_loss: 0.4092 - val_accuracy: 0.8307\n",
            "Epoch 47/100\n",
            "536/536 [==============================] - 2s 3ms/step - loss: 0.3996 - accuracy: 0.8356 - val_loss: 0.4100 - val_accuracy: 0.8307\n",
            "Epoch 48/100\n",
            "536/536 [==============================] - 2s 3ms/step - loss: 0.3998 - accuracy: 0.8371 - val_loss: 0.4090 - val_accuracy: 0.8300\n",
            "Epoch 49/100\n",
            "536/536 [==============================] - 2s 3ms/step - loss: 0.3989 - accuracy: 0.8375 - val_loss: 0.4098 - val_accuracy: 0.8262\n",
            "Epoch 50/100\n",
            "536/536 [==============================] - 2s 3ms/step - loss: 0.3991 - accuracy: 0.8369 - val_loss: 0.4096 - val_accuracy: 0.8304\n",
            "Epoch 51/100\n",
            "536/536 [==============================] - 2s 3ms/step - loss: 0.3991 - accuracy: 0.8365 - val_loss: 0.4086 - val_accuracy: 0.8281\n",
            "Epoch 52/100\n",
            "536/536 [==============================] - 2s 3ms/step - loss: 0.3980 - accuracy: 0.8360 - val_loss: 0.4089 - val_accuracy: 0.8277\n",
            "Epoch 53/100\n",
            "536/536 [==============================] - 2s 3ms/step - loss: 0.3982 - accuracy: 0.8365 - val_loss: 0.4090 - val_accuracy: 0.8262\n",
            "Epoch 54/100\n",
            "536/536 [==============================] - 2s 3ms/step - loss: 0.3982 - accuracy: 0.8375 - val_loss: 0.4077 - val_accuracy: 0.8296\n",
            "Epoch 55/100\n",
            "536/536 [==============================] - 2s 3ms/step - loss: 0.3977 - accuracy: 0.8369 - val_loss: 0.4080 - val_accuracy: 0.8307\n",
            "Epoch 56/100\n",
            "536/536 [==============================] - 2s 3ms/step - loss: 0.3974 - accuracy: 0.8377 - val_loss: 0.4079 - val_accuracy: 0.8285\n",
            "Epoch 57/100\n",
            "536/536 [==============================] - 2s 3ms/step - loss: 0.3972 - accuracy: 0.8369 - val_loss: 0.4092 - val_accuracy: 0.8281\n",
            "Epoch 58/100\n",
            "536/536 [==============================] - 2s 3ms/step - loss: 0.3970 - accuracy: 0.8380 - val_loss: 0.4075 - val_accuracy: 0.8296\n",
            "Epoch 59/100\n",
            "536/536 [==============================] - 2s 3ms/step - loss: 0.3966 - accuracy: 0.8380 - val_loss: 0.4077 - val_accuracy: 0.8304\n",
            "Epoch 60/100\n",
            "536/536 [==============================] - 2s 3ms/step - loss: 0.3965 - accuracy: 0.8384 - val_loss: 0.4077 - val_accuracy: 0.8277\n",
            "Epoch 61/100\n",
            "536/536 [==============================] - 2s 3ms/step - loss: 0.3959 - accuracy: 0.8393 - val_loss: 0.4074 - val_accuracy: 0.8292\n",
            "Epoch 62/100\n",
            "536/536 [==============================] - 2s 3ms/step - loss: 0.3959 - accuracy: 0.8384 - val_loss: 0.4070 - val_accuracy: 0.8300\n",
            "Epoch 63/100\n",
            "536/536 [==============================] - 2s 3ms/step - loss: 0.3956 - accuracy: 0.8378 - val_loss: 0.4072 - val_accuracy: 0.8300\n",
            "Epoch 64/100\n",
            "536/536 [==============================] - 2s 3ms/step - loss: 0.3951 - accuracy: 0.8373 - val_loss: 0.4081 - val_accuracy: 0.8319\n",
            "Epoch 65/100\n",
            "536/536 [==============================] - 2s 3ms/step - loss: 0.3949 - accuracy: 0.8393 - val_loss: 0.4071 - val_accuracy: 0.8326\n",
            "Epoch 66/100\n",
            "536/536 [==============================] - 2s 3ms/step - loss: 0.3948 - accuracy: 0.8395 - val_loss: 0.4064 - val_accuracy: 0.8315\n",
            "Epoch 67/100\n",
            "536/536 [==============================] - 2s 3ms/step - loss: 0.3944 - accuracy: 0.8388 - val_loss: 0.4079 - val_accuracy: 0.8307\n",
            "Epoch 68/100\n",
            "536/536 [==============================] - 2s 3ms/step - loss: 0.3945 - accuracy: 0.8377 - val_loss: 0.4071 - val_accuracy: 0.8330\n",
            "Epoch 69/100\n",
            "536/536 [==============================] - 2s 3ms/step - loss: 0.3940 - accuracy: 0.8395 - val_loss: 0.4072 - val_accuracy: 0.8323\n",
            "Epoch 70/100\n",
            "536/536 [==============================] - 2s 3ms/step - loss: 0.3940 - accuracy: 0.8395 - val_loss: 0.4061 - val_accuracy: 0.8319\n",
            "Epoch 71/100\n",
            "536/536 [==============================] - 2s 3ms/step - loss: 0.3938 - accuracy: 0.8378 - val_loss: 0.4068 - val_accuracy: 0.8326\n",
            "Epoch 72/100\n",
            "536/536 [==============================] - 2s 3ms/step - loss: 0.3938 - accuracy: 0.8391 - val_loss: 0.4056 - val_accuracy: 0.8323\n",
            "Epoch 73/100\n",
            "536/536 [==============================] - 2s 3ms/step - loss: 0.3935 - accuracy: 0.8399 - val_loss: 0.4065 - val_accuracy: 0.8323\n",
            "Epoch 74/100\n",
            "536/536 [==============================] - 2s 3ms/step - loss: 0.3931 - accuracy: 0.8388 - val_loss: 0.4062 - val_accuracy: 0.8304\n",
            "Epoch 75/100\n",
            "536/536 [==============================] - 2s 3ms/step - loss: 0.3930 - accuracy: 0.8399 - val_loss: 0.4065 - val_accuracy: 0.8330\n",
            "Epoch 76/100\n",
            "536/536 [==============================] - 2s 3ms/step - loss: 0.3927 - accuracy: 0.8375 - val_loss: 0.4065 - val_accuracy: 0.8342\n",
            "Epoch 77/100\n",
            "536/536 [==============================] - 2s 3ms/step - loss: 0.3929 - accuracy: 0.8388 - val_loss: 0.4077 - val_accuracy: 0.8300\n",
            "Epoch 78/100\n",
            "536/536 [==============================] - 2s 3ms/step - loss: 0.3927 - accuracy: 0.8399 - val_loss: 0.4059 - val_accuracy: 0.8330\n",
            "Epoch 79/100\n",
            "536/536 [==============================] - 2s 3ms/step - loss: 0.3923 - accuracy: 0.8403 - val_loss: 0.4066 - val_accuracy: 0.8326\n",
            "Epoch 80/100\n",
            "536/536 [==============================] - 2s 3ms/step - loss: 0.3923 - accuracy: 0.8410 - val_loss: 0.4063 - val_accuracy: 0.8330\n",
            "Epoch 81/100\n",
            "536/536 [==============================] - 2s 3ms/step - loss: 0.3923 - accuracy: 0.8410 - val_loss: 0.4050 - val_accuracy: 0.8334\n",
            "Epoch 82/100\n",
            "536/536 [==============================] - 2s 3ms/step - loss: 0.3921 - accuracy: 0.8380 - val_loss: 0.4060 - val_accuracy: 0.8323\n",
            "Epoch 83/100\n",
            "536/536 [==============================] - 2s 3ms/step - loss: 0.3917 - accuracy: 0.8403 - val_loss: 0.4070 - val_accuracy: 0.8323\n",
            "Epoch 84/100\n",
            "536/536 [==============================] - 2s 3ms/step - loss: 0.3919 - accuracy: 0.8416 - val_loss: 0.4057 - val_accuracy: 0.8326\n",
            "Epoch 85/100\n",
            "536/536 [==============================] - 2s 3ms/step - loss: 0.3918 - accuracy: 0.8388 - val_loss: 0.4063 - val_accuracy: 0.8315\n",
            "Epoch 86/100\n",
            "536/536 [==============================] - 2s 3ms/step - loss: 0.3919 - accuracy: 0.8405 - val_loss: 0.4064 - val_accuracy: 0.8307\n",
            "Epoch 87/100\n",
            "536/536 [==============================] - 2s 3ms/step - loss: 0.3918 - accuracy: 0.8393 - val_loss: 0.4063 - val_accuracy: 0.8326\n",
            "Epoch 88/100\n",
            "536/536 [==============================] - 2s 3ms/step - loss: 0.3916 - accuracy: 0.8393 - val_loss: 0.4068 - val_accuracy: 0.8311\n",
            "Epoch 89/100\n",
            "536/536 [==============================] - 2s 3ms/step - loss: 0.3917 - accuracy: 0.8397 - val_loss: 0.4058 - val_accuracy: 0.8319\n",
            "Epoch 90/100\n",
            "536/536 [==============================] - 2s 3ms/step - loss: 0.3917 - accuracy: 0.8405 - val_loss: 0.4062 - val_accuracy: 0.8292\n",
            "Epoch 91/100\n",
            "536/536 [==============================] - 2s 3ms/step - loss: 0.3915 - accuracy: 0.8412 - val_loss: 0.4053 - val_accuracy: 0.8319\n",
            "Epoch 92/100\n",
            "536/536 [==============================] - 2s 3ms/step - loss: 0.3914 - accuracy: 0.8408 - val_loss: 0.4057 - val_accuracy: 0.8319\n",
            "Epoch 93/100\n",
            "536/536 [==============================] - 2s 3ms/step - loss: 0.3911 - accuracy: 0.8388 - val_loss: 0.4054 - val_accuracy: 0.8307\n",
            "Epoch 94/100\n",
            "536/536 [==============================] - 2s 3ms/step - loss: 0.3911 - accuracy: 0.8405 - val_loss: 0.4052 - val_accuracy: 0.8311\n",
            "Epoch 95/100\n",
            "536/536 [==============================] - 2s 3ms/step - loss: 0.3910 - accuracy: 0.8414 - val_loss: 0.4065 - val_accuracy: 0.8323\n",
            "Epoch 96/100\n",
            "536/536 [==============================] - 2s 3ms/step - loss: 0.3912 - accuracy: 0.8419 - val_loss: 0.4057 - val_accuracy: 0.8323\n",
            "Epoch 97/100\n",
            "536/536 [==============================] - 2s 3ms/step - loss: 0.3905 - accuracy: 0.8416 - val_loss: 0.4059 - val_accuracy: 0.8315\n",
            "Epoch 98/100\n",
            "536/536 [==============================] - 2s 3ms/step - loss: 0.3909 - accuracy: 0.8419 - val_loss: 0.4061 - val_accuracy: 0.8311\n",
            "Epoch 99/100\n",
            "536/536 [==============================] - 2s 3ms/step - loss: 0.3908 - accuracy: 0.8421 - val_loss: 0.4052 - val_accuracy: 0.8319\n",
            "Epoch 100/100\n",
            "536/536 [==============================] - 2s 3ms/step - loss: 0.3904 - accuracy: 0.8408 - val_loss: 0.4065 - val_accuracy: 0.8315\n"
          ],
          "name": "stdout"
        }
      ]
    },
    {
      "cell_type": "code",
      "metadata": {
        "id": "4WaH-E_urhI6",
        "outputId": "fbb8abc5-ab19-4bd1-a01f-b215ee4215e9",
        "colab": {
          "base_uri": "https://localhost:8080/"
        }
      },
      "source": [
        "# list all data in history\n",
        "\n",
        "print(model_history.history.keys())\n"
      ],
      "execution_count": 30,
      "outputs": [
        {
          "output_type": "stream",
          "text": [
            "dict_keys(['loss', 'accuracy', 'val_loss', 'val_accuracy'])\n"
          ],
          "name": "stdout"
        }
      ]
    },
    {
      "cell_type": "code",
      "metadata": {
        "id": "ZtakAqWvtZbj",
        "outputId": "0db5d009-ff40-45d5-ce0d-9c15856ff34b",
        "colab": {
          "base_uri": "https://localhost:8080/",
          "height": 573
        }
      },
      "source": [
        "# summarize history for accuracy\n",
        "plt.plot(model_history.history['accuracy'])\n",
        "plt.plot(model_history.history['val_accuracy'])\n",
        "plt.title('model accuracy')\n",
        "plt.ylabel('accuracy')\n",
        "plt.xlabel('epoch')\n",
        "plt.legend(['train', 'test'], loc='upper left')\n",
        "plt.show()\n",
        "\n",
        "# summarize history for loss\n",
        "plt.plot(model_history.history['loss'])\n",
        "plt.plot(model_history.history['val_loss'])\n",
        "plt.title('model loss')\n",
        "plt.ylabel('loss')\n",
        "plt.xlabel('epoch')\n",
        "plt.legend(['train', 'test'], loc='upper left')\n",
        "plt.show()"
      ],
      "execution_count": 33,
      "outputs": [
        {
          "output_type": "display_data",
          "data": {
            "image/png": "[encoded data removed]",
            "text/plain": [
              "<Figure size 432x288 with 1 Axes>"
            ]
          },
          "metadata": {
            "tags": [],
            "needs_background": "light"
          }
        },
        {
          "output_type": "display_data",
          "data": {
            "image/png": "[encoded data removed]",
            "text/plain": [
              "<Figure size 432x288 with 1 Axes>"
            ]
          },
          "metadata": {
            "tags": [],
            "needs_background": "light"
          }
        }
      ]
    },
    {
      "cell_type": "code",
      "metadata": {
        "id": "OIcc2atjtb1J"
      },
      "source": [
        "# Making the predictions and evaluating the model\n",
        "\n",
        "# Predicting the Test set results\n",
        "y_pred = classifier.predict(X_test)\n",
        "y_pred = (y_pred > 0.5)\n",
        "\n",
        "# Making the Confusion Matrix\n",
        "from sklearn.metrics import confusion_matrix\n",
        "cm = confusion_matrix(y_test, y_pred)\n",
        "\n",
        "# Calculate the Accuracy\n",
        "from sklearn.metrics import accuracy_score\n",
        "score=accuracy_score(y_pred,y_test)\n"
      ],
      "execution_count": 34,
      "outputs": []
    },
    {
      "cell_type": "code",
      "metadata": {
        "id": "s36FWJRhtz9E",
        "outputId": "a4219f5c-ff66-4ed9-af28-fd879103e641",
        "colab": {
          "base_uri": "https://localhost:8080/"
        }
      },
      "source": [
        "cm"
      ],
      "execution_count": 35,
      "outputs": [
        {
          "output_type": "execute_result",
          "data": {
            "text/plain": [
              "array([[1550,   45],\n",
              "       [ 274,  131]])"
            ]
          },
          "metadata": {
            "tags": []
          },
          "execution_count": 35
        }
      ]
    },
    {
      "cell_type": "code",
      "metadata": {
        "id": "LffWs3uqt4ww",
        "outputId": "5eea729a-6178-4d42-8f0b-dbf1305a0aa2",
        "colab": {
          "base_uri": "https://localhost:8080/"
        }
      },
      "source": [
        "score"
      ],
      "execution_count": 36,
      "outputs": [
        {
          "output_type": "execute_result",
          "data": {
            "text/plain": [
              "0.8405"
            ]
          },
          "metadata": {
            "tags": []
          },
          "execution_count": 36
        }
      ]
    },
    {
      "cell_type": "code",
      "metadata": {
        "id": "rZyYwQB7t6CG"
      },
      "source": [
        "#SO, our ANN is giving 84.05 % Accuracy on our test data which is really great"
      ],
      "execution_count": 37,
      "outputs": []
    },
    {
      "cell_type": "code",
      "metadata": {
        "id": "FQskz_pduDel",
        "outputId": "ff85fba6-302d-4a40-f788-705950e8c219",
        "colab": {
          "base_uri": "https://localhost:8080/"
        }
      },
      "source": [
        "#Now let's do trails on our model\n",
        "# Initialising the ANN\n",
        "classifier1 = Sequential()\n",
        "\n",
        "# Adding the input layer and the first hidden layer\n",
        "classifier1.add(Dense(units= 20, kernel_initializer='he_normal', activation='relu', input_dim = 11))\n",
        "\n",
        "# Adding the second hidden layer\n",
        "classifier1.add(Dense(units= 15,kernel_initializer= 'he_normal',activation='relu'))\n",
        "\n",
        "# Adding the third hidden layer\n",
        "classifier1.add(Dense(units= 10, kernel_initializer= 'he_normal',activation='relu'))\n",
        "\n",
        "# Adding the output layer\n",
        "classifier1.add(Dense(units=  1, kernel_initializer= 'glorot_uniform', activation = 'sigmoid'))\n",
        "\n",
        "# Compiling the ANN\n",
        "classifier1.compile(optimizer = 'Adamax', loss = 'binary_crossentropy', metrics = ['accuracy'])\n",
        "\n",
        "# Fitting the ANN to the Training set\n",
        "model_history1=classifier1.fit(X_train, y_train,validation_split=0.33, batch_size = 10, epochs = 100)"
      ],
      "execution_count": 44,
      "outputs": [
        {
          "output_type": "stream",
          "text": [
            "Epoch 1/100\n",
            "536/536 [==============================] - 2s 4ms/step - loss: 0.5193 - accuracy: 0.7794 - val_loss: 0.4924 - val_accuracy: 0.7936\n",
            "Epoch 2/100\n",
            "536/536 [==============================] - 2s 3ms/step - loss: 0.4793 - accuracy: 0.7957 - val_loss: 0.4722 - val_accuracy: 0.7989\n",
            "Epoch 3/100\n",
            "536/536 [==============================] - 2s 3ms/step - loss: 0.4609 - accuracy: 0.7996 - val_loss: 0.4614 - val_accuracy: 0.7997\n",
            "Epoch 4/100\n",
            "536/536 [==============================] - 2s 3ms/step - loss: 0.4480 - accuracy: 0.8029 - val_loss: 0.4538 - val_accuracy: 0.8027\n",
            "Epoch 5/100\n",
            "536/536 [==============================] - 2s 3ms/step - loss: 0.4382 - accuracy: 0.8074 - val_loss: 0.4477 - val_accuracy: 0.8061\n",
            "Epoch 6/100\n",
            "536/536 [==============================] - 2s 3ms/step - loss: 0.4303 - accuracy: 0.8099 - val_loss: 0.4423 - val_accuracy: 0.8092\n",
            "Epoch 7/100\n",
            "536/536 [==============================] - 2s 3ms/step - loss: 0.4236 - accuracy: 0.8160 - val_loss: 0.4375 - val_accuracy: 0.8107\n",
            "Epoch 8/100\n",
            "536/536 [==============================] - 2s 3ms/step - loss: 0.4172 - accuracy: 0.8197 - val_loss: 0.4339 - val_accuracy: 0.8095\n",
            "Epoch 9/100\n",
            "536/536 [==============================] - 2s 3ms/step - loss: 0.4115 - accuracy: 0.8231 - val_loss: 0.4310 - val_accuracy: 0.8156\n",
            "Epoch 10/100\n",
            "536/536 [==============================] - 2s 3ms/step - loss: 0.4065 - accuracy: 0.8255 - val_loss: 0.4269 - val_accuracy: 0.8201\n",
            "Epoch 11/100\n",
            "536/536 [==============================] - 2s 3ms/step - loss: 0.4017 - accuracy: 0.8294 - val_loss: 0.4240 - val_accuracy: 0.8232\n",
            "Epoch 12/100\n",
            "536/536 [==============================] - 2s 3ms/step - loss: 0.3968 - accuracy: 0.8317 - val_loss: 0.4212 - val_accuracy: 0.8247\n",
            "Epoch 13/100\n",
            "536/536 [==============================] - 2s 3ms/step - loss: 0.3927 - accuracy: 0.8341 - val_loss: 0.4182 - val_accuracy: 0.8266\n",
            "Epoch 14/100\n",
            "536/536 [==============================] - 2s 3ms/step - loss: 0.3885 - accuracy: 0.8377 - val_loss: 0.4161 - val_accuracy: 0.8277\n",
            "Epoch 15/100\n",
            "536/536 [==============================] - 2s 3ms/step - loss: 0.3844 - accuracy: 0.8390 - val_loss: 0.4127 - val_accuracy: 0.8281\n",
            "Epoch 16/100\n",
            "536/536 [==============================] - 2s 3ms/step - loss: 0.3804 - accuracy: 0.8408 - val_loss: 0.4102 - val_accuracy: 0.8319\n",
            "Epoch 17/100\n",
            "536/536 [==============================] - 2s 3ms/step - loss: 0.3771 - accuracy: 0.8436 - val_loss: 0.4082 - val_accuracy: 0.8307\n",
            "Epoch 18/100\n",
            "536/536 [==============================] - 2s 3ms/step - loss: 0.3736 - accuracy: 0.8436 - val_loss: 0.4059 - val_accuracy: 0.8326\n",
            "Epoch 19/100\n",
            "536/536 [==============================] - 2s 3ms/step - loss: 0.3704 - accuracy: 0.8457 - val_loss: 0.4032 - val_accuracy: 0.8315\n",
            "Epoch 20/100\n",
            "536/536 [==============================] - 2s 3ms/step - loss: 0.3673 - accuracy: 0.8483 - val_loss: 0.4010 - val_accuracy: 0.8330\n",
            "Epoch 21/100\n",
            "536/536 [==============================] - 2s 3ms/step - loss: 0.3644 - accuracy: 0.8481 - val_loss: 0.3995 - val_accuracy: 0.8338\n",
            "Epoch 22/100\n",
            "536/536 [==============================] - 2s 3ms/step - loss: 0.3617 - accuracy: 0.8498 - val_loss: 0.3969 - val_accuracy: 0.8345\n",
            "Epoch 23/100\n",
            "536/536 [==============================] - 2s 3ms/step - loss: 0.3592 - accuracy: 0.8496 - val_loss: 0.3957 - val_accuracy: 0.8349\n",
            "Epoch 24/100\n",
            "536/536 [==============================] - 2s 3ms/step - loss: 0.3568 - accuracy: 0.8530 - val_loss: 0.3938 - val_accuracy: 0.8376\n",
            "Epoch 25/100\n",
            "536/536 [==============================] - 2s 3ms/step - loss: 0.3547 - accuracy: 0.8520 - val_loss: 0.3925 - val_accuracy: 0.8379\n",
            "Epoch 26/100\n",
            "536/536 [==============================] - 2s 3ms/step - loss: 0.3525 - accuracy: 0.8513 - val_loss: 0.3913 - val_accuracy: 0.8395\n",
            "Epoch 27/100\n",
            "536/536 [==============================] - 2s 3ms/step - loss: 0.3505 - accuracy: 0.8535 - val_loss: 0.3909 - val_accuracy: 0.8379\n",
            "Epoch 28/100\n",
            "536/536 [==============================] - 2s 3ms/step - loss: 0.3487 - accuracy: 0.8550 - val_loss: 0.3887 - val_accuracy: 0.8402\n",
            "Epoch 29/100\n",
            "536/536 [==============================] - 2s 3ms/step - loss: 0.3465 - accuracy: 0.8558 - val_loss: 0.3886 - val_accuracy: 0.8398\n",
            "Epoch 30/100\n",
            "536/536 [==============================] - 2s 3ms/step - loss: 0.3448 - accuracy: 0.8571 - val_loss: 0.3859 - val_accuracy: 0.8406\n",
            "Epoch 31/100\n",
            "536/536 [==============================] - 2s 3ms/step - loss: 0.3431 - accuracy: 0.8571 - val_loss: 0.3855 - val_accuracy: 0.8417\n",
            "Epoch 32/100\n",
            "536/536 [==============================] - 2s 3ms/step - loss: 0.3414 - accuracy: 0.8578 - val_loss: 0.3843 - val_accuracy: 0.8417\n",
            "Epoch 33/100\n",
            "536/536 [==============================] - 2s 3ms/step - loss: 0.3394 - accuracy: 0.8578 - val_loss: 0.3839 - val_accuracy: 0.8436\n",
            "Epoch 34/100\n",
            "536/536 [==============================] - 2s 3ms/step - loss: 0.3385 - accuracy: 0.8582 - val_loss: 0.3829 - val_accuracy: 0.8444\n",
            "Epoch 35/100\n",
            "536/536 [==============================] - 2s 4ms/step - loss: 0.3371 - accuracy: 0.8582 - val_loss: 0.3826 - val_accuracy: 0.8440\n",
            "Epoch 36/100\n",
            "536/536 [==============================] - 2s 4ms/step - loss: 0.3354 - accuracy: 0.8600 - val_loss: 0.3833 - val_accuracy: 0.8395\n",
            "Epoch 37/100\n",
            "536/536 [==============================] - 2s 4ms/step - loss: 0.3348 - accuracy: 0.8582 - val_loss: 0.3817 - val_accuracy: 0.8410\n",
            "Epoch 38/100\n",
            "536/536 [==============================] - 2s 4ms/step - loss: 0.3332 - accuracy: 0.8600 - val_loss: 0.3823 - val_accuracy: 0.8421\n",
            "Epoch 39/100\n",
            "536/536 [==============================] - 2s 4ms/step - loss: 0.3321 - accuracy: 0.8612 - val_loss: 0.3804 - val_accuracy: 0.8463\n",
            "Epoch 40/100\n",
            "536/536 [==============================] - 2s 4ms/step - loss: 0.3315 - accuracy: 0.8614 - val_loss: 0.3802 - val_accuracy: 0.8451\n",
            "Epoch 41/100\n",
            "536/536 [==============================] - 2s 3ms/step - loss: 0.3299 - accuracy: 0.8621 - val_loss: 0.3796 - val_accuracy: 0.8474\n",
            "Epoch 42/100\n",
            "536/536 [==============================] - 2s 3ms/step - loss: 0.3289 - accuracy: 0.8610 - val_loss: 0.3806 - val_accuracy: 0.8448\n",
            "Epoch 43/100\n",
            "536/536 [==============================] - 2s 3ms/step - loss: 0.3284 - accuracy: 0.8628 - val_loss: 0.3791 - val_accuracy: 0.8451\n",
            "Epoch 44/100\n",
            "536/536 [==============================] - 2s 4ms/step - loss: 0.3272 - accuracy: 0.8623 - val_loss: 0.3787 - val_accuracy: 0.8470\n",
            "Epoch 45/100\n",
            "536/536 [==============================] - 2s 3ms/step - loss: 0.3269 - accuracy: 0.8627 - val_loss: 0.3788 - val_accuracy: 0.8444\n",
            "Epoch 46/100\n",
            "536/536 [==============================] - 2s 3ms/step - loss: 0.3262 - accuracy: 0.8634 - val_loss: 0.3779 - val_accuracy: 0.8474\n",
            "Epoch 47/100\n",
            "536/536 [==============================] - 2s 3ms/step - loss: 0.3255 - accuracy: 0.8647 - val_loss: 0.3790 - val_accuracy: 0.8482\n",
            "Epoch 48/100\n",
            "536/536 [==============================] - 2s 3ms/step - loss: 0.3248 - accuracy: 0.8636 - val_loss: 0.3774 - val_accuracy: 0.8485\n",
            "Epoch 49/100\n",
            "536/536 [==============================] - 2s 3ms/step - loss: 0.3241 - accuracy: 0.8636 - val_loss: 0.3773 - val_accuracy: 0.8463\n",
            "Epoch 50/100\n",
            "536/536 [==============================] - 2s 3ms/step - loss: 0.3233 - accuracy: 0.8638 - val_loss: 0.3774 - val_accuracy: 0.8466\n",
            "Epoch 51/100\n",
            "536/536 [==============================] - 2s 3ms/step - loss: 0.3227 - accuracy: 0.8643 - val_loss: 0.3773 - val_accuracy: 0.8497\n",
            "Epoch 52/100\n",
            "536/536 [==============================] - 2s 3ms/step - loss: 0.3220 - accuracy: 0.8662 - val_loss: 0.3772 - val_accuracy: 0.8451\n",
            "Epoch 53/100\n",
            "536/536 [==============================] - 2s 3ms/step - loss: 0.3209 - accuracy: 0.8662 - val_loss: 0.3770 - val_accuracy: 0.8470\n",
            "Epoch 54/100\n",
            "536/536 [==============================] - 2s 3ms/step - loss: 0.3210 - accuracy: 0.8655 - val_loss: 0.3772 - val_accuracy: 0.8466\n",
            "Epoch 55/100\n",
            "536/536 [==============================] - 2s 3ms/step - loss: 0.3203 - accuracy: 0.8681 - val_loss: 0.3780 - val_accuracy: 0.8478\n",
            "Epoch 56/100\n",
            "536/536 [==============================] - 2s 3ms/step - loss: 0.3200 - accuracy: 0.8662 - val_loss: 0.3762 - val_accuracy: 0.8478\n",
            "Epoch 57/100\n",
            "536/536 [==============================] - 2s 3ms/step - loss: 0.3193 - accuracy: 0.8670 - val_loss: 0.3765 - val_accuracy: 0.8478\n",
            "Epoch 58/100\n",
            "536/536 [==============================] - 2s 3ms/step - loss: 0.3188 - accuracy: 0.8679 - val_loss: 0.3765 - val_accuracy: 0.8466\n",
            "Epoch 59/100\n",
            "536/536 [==============================] - 2s 3ms/step - loss: 0.3182 - accuracy: 0.8664 - val_loss: 0.3769 - val_accuracy: 0.8451\n",
            "Epoch 60/100\n",
            "536/536 [==============================] - 2s 3ms/step - loss: 0.3177 - accuracy: 0.8679 - val_loss: 0.3770 - val_accuracy: 0.8485\n",
            "Epoch 61/100\n",
            "536/536 [==============================] - 2s 3ms/step - loss: 0.3171 - accuracy: 0.8686 - val_loss: 0.3773 - val_accuracy: 0.8463\n",
            "Epoch 62/100\n",
            "536/536 [==============================] - 2s 3ms/step - loss: 0.3169 - accuracy: 0.8683 - val_loss: 0.3770 - val_accuracy: 0.8459\n",
            "Epoch 63/100\n",
            "536/536 [==============================] - 2s 3ms/step - loss: 0.3164 - accuracy: 0.8683 - val_loss: 0.3773 - val_accuracy: 0.8474\n",
            "Epoch 64/100\n",
            "536/536 [==============================] - 2s 3ms/step - loss: 0.3158 - accuracy: 0.8688 - val_loss: 0.3779 - val_accuracy: 0.8463\n",
            "Epoch 65/100\n",
            "536/536 [==============================] - 2s 3ms/step - loss: 0.3157 - accuracy: 0.8683 - val_loss: 0.3780 - val_accuracy: 0.8459\n",
            "Epoch 66/100\n",
            "536/536 [==============================] - 2s 3ms/step - loss: 0.3153 - accuracy: 0.8703 - val_loss: 0.3772 - val_accuracy: 0.8478\n",
            "Epoch 67/100\n",
            "536/536 [==============================] - 2s 3ms/step - loss: 0.3146 - accuracy: 0.8677 - val_loss: 0.3758 - val_accuracy: 0.8474\n",
            "Epoch 68/100\n",
            "536/536 [==============================] - 2s 3ms/step - loss: 0.3143 - accuracy: 0.8683 - val_loss: 0.3778 - val_accuracy: 0.8470\n",
            "Epoch 69/100\n",
            "536/536 [==============================] - 2s 3ms/step - loss: 0.3139 - accuracy: 0.8698 - val_loss: 0.3775 - val_accuracy: 0.8466\n",
            "Epoch 70/100\n",
            "536/536 [==============================] - 2s 3ms/step - loss: 0.3134 - accuracy: 0.8699 - val_loss: 0.3780 - val_accuracy: 0.8470\n",
            "Epoch 71/100\n",
            "536/536 [==============================] - 2s 3ms/step - loss: 0.3128 - accuracy: 0.8703 - val_loss: 0.3769 - val_accuracy: 0.8463\n",
            "Epoch 72/100\n",
            "536/536 [==============================] - 2s 3ms/step - loss: 0.3124 - accuracy: 0.8703 - val_loss: 0.3775 - val_accuracy: 0.8474\n",
            "Epoch 73/100\n",
            "536/536 [==============================] - 2s 3ms/step - loss: 0.3119 - accuracy: 0.8703 - val_loss: 0.3767 - val_accuracy: 0.8451\n",
            "Epoch 74/100\n",
            "536/536 [==============================] - 2s 3ms/step - loss: 0.3117 - accuracy: 0.8711 - val_loss: 0.3777 - val_accuracy: 0.8482\n",
            "Epoch 75/100\n",
            "536/536 [==============================] - 2s 3ms/step - loss: 0.3113 - accuracy: 0.8714 - val_loss: 0.3776 - val_accuracy: 0.8482\n",
            "Epoch 76/100\n",
            "536/536 [==============================] - 2s 3ms/step - loss: 0.3108 - accuracy: 0.8729 - val_loss: 0.3784 - val_accuracy: 0.8463\n",
            "Epoch 77/100\n",
            "536/536 [==============================] - 2s 3ms/step - loss: 0.3102 - accuracy: 0.8727 - val_loss: 0.3802 - val_accuracy: 0.8451\n",
            "Epoch 78/100\n",
            "536/536 [==============================] - 2s 3ms/step - loss: 0.3100 - accuracy: 0.8705 - val_loss: 0.3777 - val_accuracy: 0.8463\n",
            "Epoch 79/100\n",
            "536/536 [==============================] - 2s 3ms/step - loss: 0.3095 - accuracy: 0.8711 - val_loss: 0.3774 - val_accuracy: 0.8482\n",
            "Epoch 80/100\n",
            "536/536 [==============================] - 2s 3ms/step - loss: 0.3094 - accuracy: 0.8712 - val_loss: 0.3794 - val_accuracy: 0.8444\n",
            "Epoch 81/100\n",
            "536/536 [==============================] - 2s 3ms/step - loss: 0.3087 - accuracy: 0.8718 - val_loss: 0.3786 - val_accuracy: 0.8466\n",
            "Epoch 82/100\n",
            "536/536 [==============================] - 2s 3ms/step - loss: 0.3086 - accuracy: 0.8727 - val_loss: 0.3779 - val_accuracy: 0.8459\n",
            "Epoch 83/100\n",
            "536/536 [==============================] - 2s 3ms/step - loss: 0.3083 - accuracy: 0.8727 - val_loss: 0.3783 - val_accuracy: 0.8459\n",
            "Epoch 84/100\n",
            "536/536 [==============================] - 2s 3ms/step - loss: 0.3076 - accuracy: 0.8733 - val_loss: 0.3792 - val_accuracy: 0.8478\n",
            "Epoch 85/100\n",
            "536/536 [==============================] - 2s 3ms/step - loss: 0.3075 - accuracy: 0.8724 - val_loss: 0.3792 - val_accuracy: 0.8466\n",
            "Epoch 86/100\n",
            "536/536 [==============================] - 2s 3ms/step - loss: 0.3070 - accuracy: 0.8735 - val_loss: 0.3797 - val_accuracy: 0.8466\n",
            "Epoch 87/100\n",
            "536/536 [==============================] - 2s 3ms/step - loss: 0.3067 - accuracy: 0.8726 - val_loss: 0.3801 - val_accuracy: 0.8470\n",
            "Epoch 88/100\n",
            "536/536 [==============================] - 2s 3ms/step - loss: 0.3068 - accuracy: 0.8726 - val_loss: 0.3795 - val_accuracy: 0.8474\n",
            "Epoch 89/100\n",
            "536/536 [==============================] - 2s 3ms/step - loss: 0.3060 - accuracy: 0.8752 - val_loss: 0.3794 - val_accuracy: 0.8478\n",
            "Epoch 90/100\n",
            "536/536 [==============================] - 2s 3ms/step - loss: 0.3057 - accuracy: 0.8724 - val_loss: 0.3796 - val_accuracy: 0.8482\n",
            "Epoch 91/100\n",
            "536/536 [==============================] - 2s 3ms/step - loss: 0.3053 - accuracy: 0.8740 - val_loss: 0.3791 - val_accuracy: 0.8485\n",
            "Epoch 92/100\n",
            "536/536 [==============================] - 2s 3ms/step - loss: 0.3051 - accuracy: 0.8744 - val_loss: 0.3802 - val_accuracy: 0.8470\n",
            "Epoch 93/100\n",
            "536/536 [==============================] - 2s 3ms/step - loss: 0.3046 - accuracy: 0.8737 - val_loss: 0.3813 - val_accuracy: 0.8501\n",
            "Epoch 94/100\n",
            "536/536 [==============================] - 2s 3ms/step - loss: 0.3046 - accuracy: 0.8737 - val_loss: 0.3797 - val_accuracy: 0.8478\n",
            "Epoch 95/100\n",
            "536/536 [==============================] - 2s 3ms/step - loss: 0.3042 - accuracy: 0.8737 - val_loss: 0.3801 - val_accuracy: 0.8470\n",
            "Epoch 96/100\n",
            "536/536 [==============================] - 2s 3ms/step - loss: 0.3039 - accuracy: 0.8735 - val_loss: 0.3797 - val_accuracy: 0.8493\n",
            "Epoch 97/100\n",
            "536/536 [==============================] - 2s 3ms/step - loss: 0.3033 - accuracy: 0.8742 - val_loss: 0.3808 - val_accuracy: 0.8474\n",
            "Epoch 98/100\n",
            "536/536 [==============================] - 2s 3ms/step - loss: 0.3030 - accuracy: 0.8733 - val_loss: 0.3807 - val_accuracy: 0.8489\n",
            "Epoch 99/100\n",
            "536/536 [==============================] - 2s 3ms/step - loss: 0.3028 - accuracy: 0.8727 - val_loss: 0.3809 - val_accuracy: 0.8482\n",
            "Epoch 100/100\n",
            "536/536 [==============================] - 2s 4ms/step - loss: 0.3022 - accuracy: 0.8763 - val_loss: 0.3809 - val_accuracy: 0.8478\n"
          ],
          "name": "stdout"
        }
      ]
    },
    {
      "cell_type": "code",
      "metadata": {
        "id": "vpmZkPoqvOlE",
        "outputId": "8b6e7d61-8bc8-46b4-95d0-4ab6de640451",
        "colab": {
          "base_uri": "https://localhost:8080/",
          "height": 590
        }
      },
      "source": [
        "\n",
        "# list all data in history\n",
        "\n",
        "print(model_history1.history.keys())\n",
        "# summarize history for accuracy\n",
        "plt.plot(model_history1.history['accuracy'])\n",
        "plt.plot(model_history1.history['val_accuracy'])\n",
        "plt.title('model accuracy')\n",
        "plt.ylabel('accuracy')\n",
        "plt.xlabel('epoch')\n",
        "plt.legend(['train', 'test'], loc='upper left')\n",
        "plt.show()\n",
        "\n",
        "# summarize history for loss\n",
        "plt.plot(model_history1.history['loss'])\n",
        "plt.plot(model_history1.history['val_loss'])\n",
        "plt.title('model loss')\n",
        "plt.ylabel('loss')\n",
        "plt.xlabel('epoch')\n",
        "plt.legend(['train', 'test'], loc='upper left')\n",
        "plt.show()\n",
        "\n",
        "# Part 3 - Making the predictions and evaluating the model\n",
        "\n",
        "# Predicting the Test set results\n",
        "y_pred = classifier1.predict(X_test)\n",
        "y_pred = (y_pred > 0.5)\n",
        "\n",
        "# Making the Confusion Matrix\n",
        "from sklearn.metrics import confusion_matrix\n",
        "cm = confusion_matrix(y_test, y_pred)\n",
        "\n",
        "# Calculate the Accuracy\n",
        "from sklearn.metrics import accuracy_score\n",
        "score=accuracy_score(y_pred,y_test)"
      ],
      "execution_count": 46,
      "outputs": [
        {
          "output_type": "stream",
          "text": [
            "dict_keys(['loss', 'accuracy', 'val_loss', 'val_accuracy'])\n"
          ],
          "name": "stdout"
        },
        {
          "output_type": "display_data",
          "data": {
            "image/png": "[encoded data removed]",
            "text/plain": [
              "<Figure size 432x288 with 1 Axes>"
            ]
          },
          "metadata": {
            "tags": [],
            "needs_background": "light"
          }
        },
        {
          "output_type": "display_data",
          "data": {
            "image/png": "[encoded data removed]",
            "text/plain": [
              "<Figure size 432x288 with 1 Axes>"
            ]
          },
          "metadata": {
            "tags": [],
            "needs_background": "light"
          }
        }
      ]
    },
    {
      "cell_type": "code",
      "metadata": {
        "id": "a6jBUDCwxW3M"
      },
      "source": [
        "# Making the predictions and evaluating the model\n",
        "\n",
        "# Predicting the Test set results\n",
        "y_pred = classifier1.predict(X_test)\n",
        "y_pred = (y_pred > 0.5)\n",
        "\n",
        "# Making the Confusion Matrix\n",
        "from sklearn.metrics import confusion_matrix\n",
        "cm = confusion_matrix(y_test, y_pred)\n",
        "\n",
        "# Calculate the Accuracy\n",
        "from sklearn.metrics import accuracy_score\n",
        "score=accuracy_score(y_pred,y_test)"
      ],
      "execution_count": 47,
      "outputs": []
    },
    {
      "cell_type": "code",
      "metadata": {
        "id": "GIYY9Mh1xq6v",
        "outputId": "32a1f81d-1dbd-4d06-d301-0f49e78da90b",
        "colab": {
          "base_uri": "https://localhost:8080/"
        }
      },
      "source": [
        "cm"
      ],
      "execution_count": 48,
      "outputs": [
        {
          "output_type": "execute_result",
          "data": {
            "text/plain": [
              "array([[1491,  104],\n",
              "       [ 194,  211]])"
            ]
          },
          "metadata": {
            "tags": []
          },
          "execution_count": 48
        }
      ]
    },
    {
      "cell_type": "code",
      "metadata": {
        "id": "QYwx10V1xr9L",
        "outputId": "d7603067-afab-4a65-c3aa-b01a689478a3",
        "colab": {
          "base_uri": "https://localhost:8080/"
        }
      },
      "source": [
        "score"
      ],
      "execution_count": 49,
      "outputs": [
        {
          "output_type": "execute_result",
          "data": {
            "text/plain": [
              "0.851"
            ]
          },
          "metadata": {
            "tags": []
          },
          "execution_count": 49
        }
      ]
    },
    {
      "cell_type": "code",
      "metadata": {
        "id": "UW5-w6slxsg6",
        "outputId": "0970dd73-129f-4187-c504-5071f985bd22",
        "colab": {
          "base_uri": "https://localhost:8080/"
        }
      },
      "source": [
        "#Now let's do trails on our model\n",
        "# Initialising the ANN\n",
        "classifier2 = Sequential()\n",
        "\n",
        "# Adding the input layer and the first hidden layer\n",
        "classifier2.add(Dense(units= 36, kernel_initializer='he_normal', activation='relu', input_dim = 11))\n",
        "classifier2.add(Dropout(0.3))\n",
        "# Adding the second hidden layer\n",
        "classifier2.add(Dense(units= 20,kernel_initializer= 'he_normal',activation='relu'))\n",
        "classifier2.add(Dropout(0.4))\n",
        "# Adding the third hidden layer\n",
        "classifier2.add(Dense(units= 15, kernel_initializer= 'he_normal',activation='relu'))\n",
        "classifier2.add(Dropout(0.2))\n",
        "# Adding the output layer\n",
        "classifier2.add(Dense(units=  1, kernel_initializer= 'glorot_uniform', activation = 'sigmoid'))\n",
        "\n",
        "# Compiling the ANN\n",
        "classifier2.compile(optimizer = 'Adam', loss = 'binary_crossentropy', metrics = ['accuracy'])\n",
        "\n",
        "# Fitting the ANN to the Training set\n",
        "model_history1=classifier2.fit(X_train, y_train,validation_split=0.33, batch_size = 10, epochs = 100)"
      ],
      "execution_count": 54,
      "outputs": [
        {
          "output_type": "stream",
          "text": [
            "Epoch 1/100\n",
            "536/536 [==============================] - 2s 4ms/step - loss: 0.6094 - accuracy: 0.7160 - val_loss: 0.4694 - val_accuracy: 0.7955\n",
            "Epoch 2/100\n",
            "536/536 [==============================] - 2s 3ms/step - loss: 0.4933 - accuracy: 0.7960 - val_loss: 0.4581 - val_accuracy: 0.7955\n",
            "Epoch 3/100\n",
            "536/536 [==============================] - 2s 3ms/step - loss: 0.4676 - accuracy: 0.8000 - val_loss: 0.4374 - val_accuracy: 0.8012\n",
            "Epoch 4/100\n",
            "536/536 [==============================] - 2s 4ms/step - loss: 0.4587 - accuracy: 0.8011 - val_loss: 0.4390 - val_accuracy: 0.8054\n",
            "Epoch 5/100\n",
            "536/536 [==============================] - 2s 4ms/step - loss: 0.4545 - accuracy: 0.8043 - val_loss: 0.4301 - val_accuracy: 0.8046\n",
            "Epoch 6/100\n",
            "536/536 [==============================] - 2s 3ms/step - loss: 0.4411 - accuracy: 0.8037 - val_loss: 0.4206 - val_accuracy: 0.8076\n",
            "Epoch 7/100\n",
            "536/536 [==============================] - 2s 3ms/step - loss: 0.4389 - accuracy: 0.8087 - val_loss: 0.4138 - val_accuracy: 0.8171\n",
            "Epoch 8/100\n",
            "536/536 [==============================] - 2s 3ms/step - loss: 0.4139 - accuracy: 0.8179 - val_loss: 0.3999 - val_accuracy: 0.8266\n",
            "Epoch 9/100\n",
            "536/536 [==============================] - 2s 4ms/step - loss: 0.4163 - accuracy: 0.8212 - val_loss: 0.3931 - val_accuracy: 0.8251\n",
            "Epoch 10/100\n",
            "536/536 [==============================] - 2s 3ms/step - loss: 0.4085 - accuracy: 0.8225 - val_loss: 0.3885 - val_accuracy: 0.8342\n",
            "Epoch 11/100\n",
            "536/536 [==============================] - 2s 3ms/step - loss: 0.4114 - accuracy: 0.8192 - val_loss: 0.3844 - val_accuracy: 0.8379\n",
            "Epoch 12/100\n",
            "536/536 [==============================] - 2s 3ms/step - loss: 0.3990 - accuracy: 0.8287 - val_loss: 0.3783 - val_accuracy: 0.8387\n",
            "Epoch 13/100\n",
            "536/536 [==============================] - 2s 3ms/step - loss: 0.3937 - accuracy: 0.8347 - val_loss: 0.3798 - val_accuracy: 0.8372\n",
            "Epoch 14/100\n",
            "536/536 [==============================] - 2s 3ms/step - loss: 0.3881 - accuracy: 0.8293 - val_loss: 0.3743 - val_accuracy: 0.8364\n",
            "Epoch 15/100\n",
            "536/536 [==============================] - 2s 3ms/step - loss: 0.3921 - accuracy: 0.8341 - val_loss: 0.3730 - val_accuracy: 0.8402\n",
            "Epoch 16/100\n",
            "536/536 [==============================] - 2s 3ms/step - loss: 0.3843 - accuracy: 0.8369 - val_loss: 0.3696 - val_accuracy: 0.8406\n",
            "Epoch 17/100\n",
            "536/536 [==============================] - 2s 3ms/step - loss: 0.3906 - accuracy: 0.8336 - val_loss: 0.3684 - val_accuracy: 0.8406\n",
            "Epoch 18/100\n",
            "536/536 [==============================] - 2s 3ms/step - loss: 0.3773 - accuracy: 0.8436 - val_loss: 0.3663 - val_accuracy: 0.8463\n",
            "Epoch 19/100\n",
            "536/536 [==============================] - 2s 3ms/step - loss: 0.3849 - accuracy: 0.8384 - val_loss: 0.3689 - val_accuracy: 0.8444\n",
            "Epoch 20/100\n",
            "536/536 [==============================] - 2s 3ms/step - loss: 0.3786 - accuracy: 0.8449 - val_loss: 0.3667 - val_accuracy: 0.8440\n",
            "Epoch 21/100\n",
            "536/536 [==============================] - 2s 3ms/step - loss: 0.3763 - accuracy: 0.8395 - val_loss: 0.3651 - val_accuracy: 0.8410\n",
            "Epoch 22/100\n",
            "536/536 [==============================] - 2s 3ms/step - loss: 0.3703 - accuracy: 0.8449 - val_loss: 0.3632 - val_accuracy: 0.8459\n",
            "Epoch 23/100\n",
            "536/536 [==============================] - 2s 3ms/step - loss: 0.3729 - accuracy: 0.8433 - val_loss: 0.3633 - val_accuracy: 0.8463\n",
            "Epoch 24/100\n",
            "536/536 [==============================] - 2s 3ms/step - loss: 0.3696 - accuracy: 0.8485 - val_loss: 0.3672 - val_accuracy: 0.8451\n",
            "Epoch 25/100\n",
            "536/536 [==============================] - 2s 3ms/step - loss: 0.3719 - accuracy: 0.8487 - val_loss: 0.3643 - val_accuracy: 0.8448\n",
            "Epoch 26/100\n",
            "536/536 [==============================] - 2s 3ms/step - loss: 0.3639 - accuracy: 0.8507 - val_loss: 0.3651 - val_accuracy: 0.8463\n",
            "Epoch 27/100\n",
            "536/536 [==============================] - 2s 3ms/step - loss: 0.3662 - accuracy: 0.8449 - val_loss: 0.3674 - val_accuracy: 0.8444\n",
            "Epoch 28/100\n",
            "536/536 [==============================] - 2s 3ms/step - loss: 0.3590 - accuracy: 0.8487 - val_loss: 0.3625 - val_accuracy: 0.8466\n",
            "Epoch 29/100\n",
            "536/536 [==============================] - 2s 4ms/step - loss: 0.3601 - accuracy: 0.8530 - val_loss: 0.3655 - val_accuracy: 0.8474\n",
            "Epoch 30/100\n",
            "536/536 [==============================] - 2s 3ms/step - loss: 0.3603 - accuracy: 0.8459 - val_loss: 0.3605 - val_accuracy: 0.8493\n",
            "Epoch 31/100\n",
            "536/536 [==============================] - 2s 3ms/step - loss: 0.3591 - accuracy: 0.8520 - val_loss: 0.3575 - val_accuracy: 0.8512\n",
            "Epoch 32/100\n",
            "536/536 [==============================] - 2s 3ms/step - loss: 0.3580 - accuracy: 0.8492 - val_loss: 0.3580 - val_accuracy: 0.8470\n",
            "Epoch 33/100\n",
            "536/536 [==============================] - 2s 3ms/step - loss: 0.3606 - accuracy: 0.8490 - val_loss: 0.3609 - val_accuracy: 0.8455\n",
            "Epoch 34/100\n",
            "536/536 [==============================] - 2s 3ms/step - loss: 0.3543 - accuracy: 0.8517 - val_loss: 0.3575 - val_accuracy: 0.8493\n",
            "Epoch 35/100\n",
            "536/536 [==============================] - 2s 4ms/step - loss: 0.3553 - accuracy: 0.8517 - val_loss: 0.3603 - val_accuracy: 0.8501\n",
            "Epoch 36/100\n",
            "536/536 [==============================] - 2s 3ms/step - loss: 0.3564 - accuracy: 0.8517 - val_loss: 0.3583 - val_accuracy: 0.8485\n",
            "Epoch 37/100\n",
            "536/536 [==============================] - 2s 3ms/step - loss: 0.3496 - accuracy: 0.8561 - val_loss: 0.3597 - val_accuracy: 0.8508\n",
            "Epoch 38/100\n",
            "536/536 [==============================] - 2s 3ms/step - loss: 0.3555 - accuracy: 0.8548 - val_loss: 0.3595 - val_accuracy: 0.8501\n",
            "Epoch 39/100\n",
            "536/536 [==============================] - 2s 3ms/step - loss: 0.3529 - accuracy: 0.8528 - val_loss: 0.3608 - val_accuracy: 0.8459\n",
            "Epoch 40/100\n",
            "536/536 [==============================] - 2s 3ms/step - loss: 0.3569 - accuracy: 0.8537 - val_loss: 0.3565 - val_accuracy: 0.8519\n",
            "Epoch 41/100\n",
            "536/536 [==============================] - 2s 3ms/step - loss: 0.3483 - accuracy: 0.8584 - val_loss: 0.3617 - val_accuracy: 0.8459\n",
            "Epoch 42/100\n",
            "536/536 [==============================] - 2s 3ms/step - loss: 0.3496 - accuracy: 0.8545 - val_loss: 0.3583 - val_accuracy: 0.8482\n",
            "Epoch 43/100\n",
            "536/536 [==============================] - 2s 3ms/step - loss: 0.3545 - accuracy: 0.8494 - val_loss: 0.3611 - val_accuracy: 0.8448\n",
            "Epoch 44/100\n",
            "536/536 [==============================] - 2s 3ms/step - loss: 0.3512 - accuracy: 0.8522 - val_loss: 0.3581 - val_accuracy: 0.8508\n",
            "Epoch 45/100\n",
            "536/536 [==============================] - 2s 3ms/step - loss: 0.3503 - accuracy: 0.8558 - val_loss: 0.3591 - val_accuracy: 0.8508\n",
            "Epoch 46/100\n",
            "536/536 [==============================] - 2s 3ms/step - loss: 0.3493 - accuracy: 0.8558 - val_loss: 0.3604 - val_accuracy: 0.8531\n",
            "Epoch 47/100\n",
            "536/536 [==============================] - 2s 3ms/step - loss: 0.3507 - accuracy: 0.8513 - val_loss: 0.3560 - val_accuracy: 0.8504\n",
            "Epoch 48/100\n",
            "536/536 [==============================] - 2s 3ms/step - loss: 0.3476 - accuracy: 0.8574 - val_loss: 0.3596 - val_accuracy: 0.8470\n",
            "Epoch 49/100\n",
            "536/536 [==============================] - 2s 3ms/step - loss: 0.3524 - accuracy: 0.8533 - val_loss: 0.3554 - val_accuracy: 0.8512\n",
            "Epoch 50/100\n",
            "536/536 [==============================] - 2s 3ms/step - loss: 0.3477 - accuracy: 0.8569 - val_loss: 0.3540 - val_accuracy: 0.8516\n",
            "Epoch 51/100\n",
            "536/536 [==============================] - 2s 3ms/step - loss: 0.3437 - accuracy: 0.8625 - val_loss: 0.3547 - val_accuracy: 0.8508\n",
            "Epoch 52/100\n",
            "536/536 [==============================] - 2s 3ms/step - loss: 0.3463 - accuracy: 0.8586 - val_loss: 0.3538 - val_accuracy: 0.8542\n",
            "Epoch 53/100\n",
            "536/536 [==============================] - 2s 3ms/step - loss: 0.3452 - accuracy: 0.8597 - val_loss: 0.3541 - val_accuracy: 0.8542\n",
            "Epoch 54/100\n",
            "536/536 [==============================] - 2s 3ms/step - loss: 0.3486 - accuracy: 0.8550 - val_loss: 0.3543 - val_accuracy: 0.8546\n",
            "Epoch 55/100\n",
            "536/536 [==============================] - 2s 3ms/step - loss: 0.3477 - accuracy: 0.8561 - val_loss: 0.3554 - val_accuracy: 0.8546\n",
            "Epoch 56/100\n",
            "536/536 [==============================] - 2s 3ms/step - loss: 0.3490 - accuracy: 0.8522 - val_loss: 0.3542 - val_accuracy: 0.8523\n",
            "Epoch 57/100\n",
            "536/536 [==============================] - 2s 3ms/step - loss: 0.3415 - accuracy: 0.8593 - val_loss: 0.3540 - val_accuracy: 0.8523\n",
            "Epoch 58/100\n",
            "536/536 [==============================] - 2s 3ms/step - loss: 0.3408 - accuracy: 0.8558 - val_loss: 0.3536 - val_accuracy: 0.8569\n",
            "Epoch 59/100\n",
            "536/536 [==============================] - 2s 3ms/step - loss: 0.3479 - accuracy: 0.8524 - val_loss: 0.3556 - val_accuracy: 0.8531\n",
            "Epoch 60/100\n",
            "536/536 [==============================] - 2s 3ms/step - loss: 0.3467 - accuracy: 0.8591 - val_loss: 0.3602 - val_accuracy: 0.8527\n",
            "Epoch 61/100\n",
            "536/536 [==============================] - 2s 3ms/step - loss: 0.3487 - accuracy: 0.8584 - val_loss: 0.3555 - val_accuracy: 0.8508\n",
            "Epoch 62/100\n",
            "536/536 [==============================] - 2s 3ms/step - loss: 0.3426 - accuracy: 0.8606 - val_loss: 0.3541 - val_accuracy: 0.8542\n",
            "Epoch 63/100\n",
            "536/536 [==============================] - 2s 3ms/step - loss: 0.3489 - accuracy: 0.8537 - val_loss: 0.3556 - val_accuracy: 0.8561\n",
            "Epoch 64/100\n",
            "536/536 [==============================] - 2s 3ms/step - loss: 0.3497 - accuracy: 0.8587 - val_loss: 0.3531 - val_accuracy: 0.8527\n",
            "Epoch 65/100\n",
            "536/536 [==============================] - 2s 3ms/step - loss: 0.3448 - accuracy: 0.8576 - val_loss: 0.3524 - val_accuracy: 0.8527\n",
            "Epoch 66/100\n",
            "536/536 [==============================] - 2s 3ms/step - loss: 0.3458 - accuracy: 0.8545 - val_loss: 0.3509 - val_accuracy: 0.8531\n",
            "Epoch 67/100\n",
            "536/536 [==============================] - 2s 3ms/step - loss: 0.3421 - accuracy: 0.8608 - val_loss: 0.3511 - val_accuracy: 0.8531\n",
            "Epoch 68/100\n",
            "536/536 [==============================] - 2s 3ms/step - loss: 0.3388 - accuracy: 0.8632 - val_loss: 0.3522 - val_accuracy: 0.8527\n",
            "Epoch 69/100\n",
            "536/536 [==============================] - 2s 3ms/step - loss: 0.3407 - accuracy: 0.8604 - val_loss: 0.3516 - val_accuracy: 0.8538\n",
            "Epoch 70/100\n",
            "536/536 [==============================] - 2s 4ms/step - loss: 0.3456 - accuracy: 0.8558 - val_loss: 0.3528 - val_accuracy: 0.8561\n",
            "Epoch 71/100\n",
            "536/536 [==============================] - 2s 4ms/step - loss: 0.3496 - accuracy: 0.8558 - val_loss: 0.3534 - val_accuracy: 0.8535\n",
            "Epoch 72/100\n",
            "536/536 [==============================] - 2s 4ms/step - loss: 0.3394 - accuracy: 0.8610 - val_loss: 0.3521 - val_accuracy: 0.8550\n",
            "Epoch 73/100\n",
            "536/536 [==============================] - 2s 4ms/step - loss: 0.3469 - accuracy: 0.8567 - val_loss: 0.3520 - val_accuracy: 0.8531\n",
            "Epoch 74/100\n",
            "536/536 [==============================] - 2s 4ms/step - loss: 0.3416 - accuracy: 0.8587 - val_loss: 0.3505 - val_accuracy: 0.8557\n",
            "Epoch 75/100\n",
            "536/536 [==============================] - 2s 4ms/step - loss: 0.3483 - accuracy: 0.8595 - val_loss: 0.3527 - val_accuracy: 0.8519\n",
            "Epoch 76/100\n",
            "536/536 [==============================] - 2s 3ms/step - loss: 0.3472 - accuracy: 0.8586 - val_loss: 0.3558 - val_accuracy: 0.8504\n",
            "Epoch 77/100\n",
            "536/536 [==============================] - 2s 3ms/step - loss: 0.3386 - accuracy: 0.8584 - val_loss: 0.3540 - val_accuracy: 0.8538\n",
            "Epoch 78/100\n",
            "536/536 [==============================] - 2s 3ms/step - loss: 0.3417 - accuracy: 0.8625 - val_loss: 0.3529 - val_accuracy: 0.8535\n",
            "Epoch 79/100\n",
            "536/536 [==============================] - 2s 3ms/step - loss: 0.3402 - accuracy: 0.8600 - val_loss: 0.3522 - val_accuracy: 0.8535\n",
            "Epoch 80/100\n",
            "536/536 [==============================] - 2s 3ms/step - loss: 0.3392 - accuracy: 0.8597 - val_loss: 0.3524 - val_accuracy: 0.8561\n",
            "Epoch 81/100\n",
            "536/536 [==============================] - 2s 3ms/step - loss: 0.3438 - accuracy: 0.8582 - val_loss: 0.3559 - val_accuracy: 0.8561\n",
            "Epoch 82/100\n",
            "536/536 [==============================] - 2s 3ms/step - loss: 0.3383 - accuracy: 0.8591 - val_loss: 0.3513 - val_accuracy: 0.8584\n",
            "Epoch 83/100\n",
            "536/536 [==============================] - 2s 3ms/step - loss: 0.3348 - accuracy: 0.8640 - val_loss: 0.3522 - val_accuracy: 0.8595\n",
            "Epoch 84/100\n",
            "536/536 [==============================] - 2s 3ms/step - loss: 0.3434 - accuracy: 0.8606 - val_loss: 0.3520 - val_accuracy: 0.8565\n",
            "Epoch 85/100\n",
            "536/536 [==============================] - 2s 3ms/step - loss: 0.3398 - accuracy: 0.8608 - val_loss: 0.3558 - val_accuracy: 0.8542\n",
            "Epoch 86/100\n",
            "536/536 [==============================] - 2s 3ms/step - loss: 0.3430 - accuracy: 0.8604 - val_loss: 0.3520 - val_accuracy: 0.8569\n",
            "Epoch 87/100\n",
            "536/536 [==============================] - 2s 3ms/step - loss: 0.3398 - accuracy: 0.8638 - val_loss: 0.3530 - val_accuracy: 0.8569\n",
            "Epoch 88/100\n",
            "536/536 [==============================] - 2s 4ms/step - loss: 0.3412 - accuracy: 0.8591 - val_loss: 0.3559 - val_accuracy: 0.8550\n",
            "Epoch 89/100\n",
            "536/536 [==============================] - 2s 4ms/step - loss: 0.3360 - accuracy: 0.8608 - val_loss: 0.3534 - val_accuracy: 0.8546\n",
            "Epoch 90/100\n",
            "536/536 [==============================] - 2s 3ms/step - loss: 0.3414 - accuracy: 0.8578 - val_loss: 0.3519 - val_accuracy: 0.8557\n",
            "Epoch 91/100\n",
            "536/536 [==============================] - 2s 3ms/step - loss: 0.3394 - accuracy: 0.8628 - val_loss: 0.3540 - val_accuracy: 0.8550\n",
            "Epoch 92/100\n",
            "536/536 [==============================] - 2s 3ms/step - loss: 0.3355 - accuracy: 0.8615 - val_loss: 0.3519 - val_accuracy: 0.8565\n",
            "Epoch 93/100\n",
            "536/536 [==============================] - 2s 3ms/step - loss: 0.3365 - accuracy: 0.8610 - val_loss: 0.3544 - val_accuracy: 0.8569\n",
            "Epoch 94/100\n",
            "536/536 [==============================] - 2s 3ms/step - loss: 0.3385 - accuracy: 0.8615 - val_loss: 0.3538 - val_accuracy: 0.8565\n",
            "Epoch 95/100\n",
            "536/536 [==============================] - 2s 3ms/step - loss: 0.3390 - accuracy: 0.8612 - val_loss: 0.3536 - val_accuracy: 0.8557\n",
            "Epoch 96/100\n",
            "536/536 [==============================] - 2s 3ms/step - loss: 0.3372 - accuracy: 0.8597 - val_loss: 0.3539 - val_accuracy: 0.8561\n",
            "Epoch 97/100\n",
            "536/536 [==============================] - 2s 3ms/step - loss: 0.3399 - accuracy: 0.8593 - val_loss: 0.3519 - val_accuracy: 0.8580\n",
            "Epoch 98/100\n",
            "536/536 [==============================] - 2s 3ms/step - loss: 0.3351 - accuracy: 0.8658 - val_loss: 0.3507 - val_accuracy: 0.8557\n",
            "Epoch 99/100\n",
            "536/536 [==============================] - 2s 4ms/step - loss: 0.3334 - accuracy: 0.8655 - val_loss: 0.3531 - val_accuracy: 0.8557\n",
            "Epoch 100/100\n",
            "536/536 [==============================] - 2s 3ms/step - loss: 0.3415 - accuracy: 0.8586 - val_loss: 0.3529 - val_accuracy: 0.8580\n"
          ],
          "name": "stdout"
        }
      ]
    },
    {
      "cell_type": "code",
      "metadata": {
        "id": "e1f8_6JQ1oqM",
        "outputId": "068d1c07-63f2-4b61-b0d2-bde534d6fd53",
        "colab": {
          "base_uri": "https://localhost:8080/",
          "height": 590
        }
      },
      "source": [
        "# list all data in history\n",
        "\n",
        "print(model_history1.history.keys())\n",
        "# summarize history for accuracy\n",
        "plt.plot(model_history1.history['accuracy'])\n",
        "plt.plot(model_history1.history['val_accuracy'])\n",
        "plt.title('model accuracy')\n",
        "plt.ylabel('accuracy')\n",
        "plt.xlabel('epoch')\n",
        "plt.legend(['train', 'test'], loc='upper left')\n",
        "plt.show()\n",
        "\n",
        "# summarize history for loss\n",
        "plt.plot(model_history1.history['loss'])\n",
        "plt.plot(model_history1.history['val_loss'])\n",
        "plt.title('model loss')\n",
        "plt.ylabel('loss')\n",
        "plt.xlabel('epoch')\n",
        "plt.legend(['train', 'test'], loc='upper left')\n",
        "plt.show()\n",
        "\n",
        "# Part 3 - Making the predictions and evaluating the model\n",
        "\n",
        "# Predicting the Test set results\n",
        "y_pred = classifier1.predict(X_test)\n",
        "y_pred = (y_pred > 0.5)\n",
        "\n",
        "# Making the Confusion Matrix\n",
        "from sklearn.metrics import confusion_matrix\n",
        "cm = confusion_matrix(y_test, y_pred)\n",
        "\n",
        "# Calculate the Accuracy\n",
        "from sklearn.metrics import accuracy_score\n",
        "score=accuracy_score(y_pred,y_test)"
      ],
      "execution_count": 55,
      "outputs": [
        {
          "output_type": "stream",
          "text": [
            "dict_keys(['loss', 'accuracy', 'val_loss', 'val_accuracy'])\n"
          ],
          "name": "stdout"
        },
        {
          "output_type": "display_data",
          "data": {
            "image/png": "[encoded data removed]",
            "text/plain": [
              "<Figure size 432x288 with 1 Axes>"
            ]
          },
          "metadata": {
            "tags": [],
            "needs_background": "light"
          }
        },
        {
          "output_type": "display_data",
          "data": {
            "image/png": "[encoded data removed]",
            "text/plain": [
              "<Figure size 432x288 with 1 Axes>"
            ]
          },
          "metadata": {
            "tags": [],
            "needs_background": "light"
          }
        }
      ]
    },
    {
      "cell_type": "code",
      "metadata": {
        "id": "HcBhdjZ43zZB"
      },
      "source": [
        "# Making the predictions and evaluating the model\n",
        "\n",
        "# Predicting the Test set results\n",
        "y_pred = classifier2.predict(X_test)\n",
        "y_pred = (y_pred > 0.5)\n",
        "\n",
        "# Making the Confusion Matrix\n",
        "from sklearn.metrics import confusion_matrix\n",
        "cm = confusion_matrix(y_test, y_pred)\n",
        "\n",
        "# Calculate the Accuracy\n",
        "from sklearn.metrics import accuracy_score\n",
        "score=accuracy_score(y_pred,y_test)"
      ],
      "execution_count": 61,
      "outputs": []
    },
    {
      "cell_type": "code",
      "metadata": {
        "id": "ITh9dl4P36Zz",
        "outputId": "e0effad9-747a-4c5b-ad36-8caff51b0987",
        "colab": {
          "base_uri": "https://localhost:8080/"
        }
      },
      "source": [
        "cm"
      ],
      "execution_count": 62,
      "outputs": [
        {
          "output_type": "execute_result",
          "data": {
            "text/plain": [
              "array([[1537,   58],\n",
              "       [ 211,  194]])"
            ]
          },
          "metadata": {
            "tags": []
          },
          "execution_count": 62
        }
      ]
    },
    {
      "cell_type": "code",
      "metadata": {
        "id": "ub7-9mDY37Ph",
        "outputId": "8014512f-0cdd-4eb1-e5cf-22230499da3e",
        "colab": {
          "base_uri": "https://localhost:8080/"
        }
      },
      "source": [
        "score"
      ],
      "execution_count": 63,
      "outputs": [
        {
          "output_type": "execute_result",
          "data": {
            "text/plain": [
              "0.8655"
            ]
          },
          "metadata": {
            "tags": []
          },
          "execution_count": 63
        }
      ]
    },
    {
      "cell_type": "code",
      "metadata": {
        "id": "nVTmm9SF38G0"
      },
      "source": [
        ""
      ],
      "execution_count": null,
      "outputs": []
    }
  ]
}